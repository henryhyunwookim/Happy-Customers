{
 "cells": [
  {
   "attachments": {},
   "cell_type": "markdown",
   "metadata": {},
   "source": [
    "##### Objectives:\n",
    "- Reach 73% accuracy score or above when predicting if a customer is happy or not based on the answers they give to questions asked.\n",
    "- What is the minimal set of attributes/features that would preserve the most information about the problem while increasing predictability of the data we have?\n",
    "- Is there any question that we can remove in our next survey?"
   ]
  },
  {
   "attachments": {},
   "cell_type": "markdown",
   "metadata": {},
   "source": [
    "##### Data Description:\n",
    "\n",
    "Y = target attribute (Y) with values indicating 0 (unhappy) and 1 (happy) customers<br>\n",
    "X1 = my order was delivered on time<br>\n",
    "X2 = contents of my order was as I expected<br>\n",
    "X3 = I ordered everything I wanted to order<br>\n",
    "X4 = I paid a good price for my order<br>\n",
    "X5 = I am satisfied with my courier<br>\n",
    "X6 = the app makes ordering easy for me<br>\n",
    "\n",
    "Attributes X1 to X6 indicate the responses for each question and have values from 1 to 5 where the smaller number indicates less and the higher number indicates more towards the answer."
   ]
  },
  {
   "attachments": {},
   "cell_type": "markdown",
   "metadata": {},
   "source": [
    "##### Hypothesis:\n",
    "\n",
    "Based on the description of each attribute,\n",
    "- X3 seems least relevant to customer satisfaction.\n",
    "- X1 would be most relevant to customer satisfaction as the company is in the logistics and delivery domain.\n",
    "- X5 could also be important in predicting customer satisfaction for the same reason mentioned above."
   ]
  },
  {
   "attachments": {},
   "cell_type": "markdown",
   "metadata": {},
   "source": [
    "1. Load libraries and initialize variables."
   ]
  },
  {
   "cell_type": "code",
   "execution_count": 1,
   "metadata": {},
   "outputs": [],
   "source": [
    "import pandas as pd\n",
    "import numpy as np\n",
    "from collections import defaultdict\n",
    "import random\n",
    "\n",
    "import seaborn as sns\n",
    "import matplotlib.pyplot as plt\n",
    "\n",
    "from sklearn.model_selection import train_test_split, StratifiedShuffleSplit, RandomizedSearchCV\n",
    "from sklearn.feature_selection import mutual_info_classif\n",
    "from sklearn.metrics import accuracy_score\n",
    "from sklearn.utils import resample\n",
    "from skfeature.function.similarity_based import fisher_score\n",
    "\n",
    "from sklearn.linear_model import LogisticRegression, LogisticRegressionCV, SGDClassifier\n",
    "from sklearn.tree import DecisionTreeClassifier\n",
    "from sklearn.ensemble import RandomForestClassifier, AdaBoostClassifier\n",
    "from sklearn.naive_bayes import BernoulliNB, GaussianNB\n",
    "from sklearn.discriminant_analysis import LinearDiscriminantAnalysis, QuadraticDiscriminantAnalysis\n",
    "from sklearn.ensemble import ExtraTreesClassifier, GradientBoostingClassifier\n",
    "from sklearn.neighbors import KNeighborsClassifier\n",
    "from sklearn.neural_network import MLPClassifier\n",
    "\n",
    "from scipy import stats\n",
    "from scipy.stats.contingency import expected_freq\n",
    "import statsmodels.api as sm\n",
    "from imblearn.over_sampling import SMOTE\n",
    "\n",
    "import warnings\n",
    "warnings.simplefilter(action='ignore', category=(FutureWarning, UserWarning))\n",
    "\n",
    "random_state = 1"
   ]
  },
  {
   "cell_type": "code",
   "execution_count": 2,
   "metadata": {},
   "outputs": [
    {
     "name": "stdout",
     "output_type": "stream",
     "text": [
      "   Y  X1  X2  X3  X4  X5  X6\n",
      "0  0   3   3   3   4   2   4\n",
      "1  0   3   2   3   5   4   3\n",
      "2  1   5   3   3   3   3   5\n",
      "3  0   5   4   3   3   3   5\n",
      "4  0   5   4   3   3   3   5 \n",
      "\n",
      "<class 'pandas.core.frame.DataFrame'>\n",
      "RangeIndex: 126 entries, 0 to 125\n",
      "Data columns (total 7 columns):\n",
      " #   Column  Non-Null Count  Dtype\n",
      "---  ------  --------------  -----\n",
      " 0   Y       126 non-null    int64\n",
      " 1   X1      126 non-null    int64\n",
      " 2   X2      126 non-null    int64\n",
      " 3   X3      126 non-null    int64\n",
      " 4   X4      126 non-null    int64\n",
      " 5   X5      126 non-null    int64\n",
      " 6   X6      126 non-null    int64\n",
      "dtypes: int64(7)\n",
      "memory usage: 7.0 KB\n",
      "None \n",
      "\n"
     ]
    },
    {
     "data": {
      "text/html": [
       "<div>\n",
       "<style scoped>\n",
       "    .dataframe tbody tr th:only-of-type {\n",
       "        vertical-align: middle;\n",
       "    }\n",
       "\n",
       "    .dataframe tbody tr th {\n",
       "        vertical-align: top;\n",
       "    }\n",
       "\n",
       "    .dataframe thead th {\n",
       "        text-align: right;\n",
       "    }\n",
       "</style>\n",
       "<table border=\"1\" class=\"dataframe\">\n",
       "  <thead>\n",
       "    <tr style=\"text-align: right;\">\n",
       "      <th></th>\n",
       "      <th>Y</th>\n",
       "      <th>X1</th>\n",
       "      <th>X2</th>\n",
       "      <th>X3</th>\n",
       "      <th>X4</th>\n",
       "      <th>X5</th>\n",
       "      <th>X6</th>\n",
       "    </tr>\n",
       "  </thead>\n",
       "  <tbody>\n",
       "    <tr>\n",
       "      <th>count</th>\n",
       "      <td>126.000000</td>\n",
       "      <td>126.000000</td>\n",
       "      <td>126.000000</td>\n",
       "      <td>126.000000</td>\n",
       "      <td>126.000000</td>\n",
       "      <td>126.000000</td>\n",
       "      <td>126.000000</td>\n",
       "    </tr>\n",
       "    <tr>\n",
       "      <th>mean</th>\n",
       "      <td>0.547619</td>\n",
       "      <td>4.333333</td>\n",
       "      <td>2.531746</td>\n",
       "      <td>3.309524</td>\n",
       "      <td>3.746032</td>\n",
       "      <td>3.650794</td>\n",
       "      <td>4.253968</td>\n",
       "    </tr>\n",
       "    <tr>\n",
       "      <th>std</th>\n",
       "      <td>0.499714</td>\n",
       "      <td>0.800000</td>\n",
       "      <td>1.114892</td>\n",
       "      <td>1.023440</td>\n",
       "      <td>0.875776</td>\n",
       "      <td>1.147641</td>\n",
       "      <td>0.809311</td>\n",
       "    </tr>\n",
       "    <tr>\n",
       "      <th>min</th>\n",
       "      <td>0.000000</td>\n",
       "      <td>1.000000</td>\n",
       "      <td>1.000000</td>\n",
       "      <td>1.000000</td>\n",
       "      <td>1.000000</td>\n",
       "      <td>1.000000</td>\n",
       "      <td>1.000000</td>\n",
       "    </tr>\n",
       "    <tr>\n",
       "      <th>25%</th>\n",
       "      <td>0.000000</td>\n",
       "      <td>4.000000</td>\n",
       "      <td>2.000000</td>\n",
       "      <td>3.000000</td>\n",
       "      <td>3.000000</td>\n",
       "      <td>3.000000</td>\n",
       "      <td>4.000000</td>\n",
       "    </tr>\n",
       "    <tr>\n",
       "      <th>50%</th>\n",
       "      <td>1.000000</td>\n",
       "      <td>5.000000</td>\n",
       "      <td>3.000000</td>\n",
       "      <td>3.000000</td>\n",
       "      <td>4.000000</td>\n",
       "      <td>4.000000</td>\n",
       "      <td>4.000000</td>\n",
       "    </tr>\n",
       "    <tr>\n",
       "      <th>75%</th>\n",
       "      <td>1.000000</td>\n",
       "      <td>5.000000</td>\n",
       "      <td>3.000000</td>\n",
       "      <td>4.000000</td>\n",
       "      <td>4.000000</td>\n",
       "      <td>4.000000</td>\n",
       "      <td>5.000000</td>\n",
       "    </tr>\n",
       "    <tr>\n",
       "      <th>max</th>\n",
       "      <td>1.000000</td>\n",
       "      <td>5.000000</td>\n",
       "      <td>5.000000</td>\n",
       "      <td>5.000000</td>\n",
       "      <td>5.000000</td>\n",
       "      <td>5.000000</td>\n",
       "      <td>5.000000</td>\n",
       "    </tr>\n",
       "  </tbody>\n",
       "</table>\n",
       "</div>"
      ],
      "text/plain": [
       "                Y          X1          X2          X3          X4          X5  \\\n",
       "count  126.000000  126.000000  126.000000  126.000000  126.000000  126.000000   \n",
       "mean     0.547619    4.333333    2.531746    3.309524    3.746032    3.650794   \n",
       "std      0.499714    0.800000    1.114892    1.023440    0.875776    1.147641   \n",
       "min      0.000000    1.000000    1.000000    1.000000    1.000000    1.000000   \n",
       "25%      0.000000    4.000000    2.000000    3.000000    3.000000    3.000000   \n",
       "50%      1.000000    5.000000    3.000000    3.000000    4.000000    4.000000   \n",
       "75%      1.000000    5.000000    3.000000    4.000000    4.000000    4.000000   \n",
       "max      1.000000    5.000000    5.000000    5.000000    5.000000    5.000000   \n",
       "\n",
       "               X6  \n",
       "count  126.000000  \n",
       "mean     4.253968  \n",
       "std      0.809311  \n",
       "min      1.000000  \n",
       "25%      4.000000  \n",
       "50%      4.000000  \n",
       "75%      5.000000  \n",
       "max      5.000000  "
      ]
     },
     "execution_count": 2,
     "metadata": {},
     "output_type": "execute_result"
    }
   ],
   "source": [
    "survey_df = pd.read_csv(\"./data/ACME-HappinessSurvey2020.csv\")\n",
    "print(survey_df.head(), \"\\n\")\n",
    "print(survey_df.info(), \"\\n\")\n",
    "survey_df.describe()"
   ]
  },
  {
   "cell_type": "code",
   "execution_count": 3,
   "metadata": {},
   "outputs": [
    {
     "data": {
      "image/png": "[encoded data removed]",
      "text/plain": [
       "<Figure size 800x800 with 9 Axes>"
      ]
     },
     "metadata": {},
     "output_type": "display_data"
    }
   ],
   "source": [
    "survey_df.iloc[:, [1,2,3,4,5,6,0]].hist(figsize=(8,8));"
   ]
  },
  {
   "cell_type": "code",
   "execution_count": 4,
   "metadata": {},
   "outputs": [],
   "source": [
    "oversample = SMOTE()\n",
    "X_balanced, y_balanced = oversample.fit_resample(survey_df.drop(\"Y\", axis=1), survey_df[\"Y\"])"
   ]
  },
  {
   "cell_type": "code",
   "execution_count": 5,
   "metadata": {},
   "outputs": [
    {
     "data": {
      "text/html": [
       "<div>\n",
       "<style scoped>\n",
       "    .dataframe tbody tr th:only-of-type {\n",
       "        vertical-align: middle;\n",
       "    }\n",
       "\n",
       "    .dataframe tbody tr th {\n",
       "        vertical-align: top;\n",
       "    }\n",
       "\n",
       "    .dataframe thead th {\n",
       "        text-align: right;\n",
       "    }\n",
       "</style>\n",
       "<table border=\"1\" class=\"dataframe\">\n",
       "  <thead>\n",
       "    <tr style=\"text-align: right;\">\n",
       "      <th></th>\n",
       "      <th>X1</th>\n",
       "      <th>X2</th>\n",
       "      <th>X3</th>\n",
       "      <th>X4</th>\n",
       "      <th>X5</th>\n",
       "      <th>X6</th>\n",
       "      <th>Y</th>\n",
       "    </tr>\n",
       "  </thead>\n",
       "  <tbody>\n",
       "    <tr>\n",
       "      <th>count</th>\n",
       "      <td>1000.00000</td>\n",
       "      <td>1000.000000</td>\n",
       "      <td>1000.000000</td>\n",
       "      <td>1000.000000</td>\n",
       "      <td>1000.000000</td>\n",
       "      <td>1000.000000</td>\n",
       "      <td>1000.000000</td>\n",
       "    </tr>\n",
       "    <tr>\n",
       "      <th>mean</th>\n",
       "      <td>4.29000</td>\n",
       "      <td>2.585000</td>\n",
       "      <td>3.322000</td>\n",
       "      <td>3.778000</td>\n",
       "      <td>3.653000</td>\n",
       "      <td>4.227000</td>\n",
       "      <td>0.525000</td>\n",
       "    </tr>\n",
       "    <tr>\n",
       "      <th>std</th>\n",
       "      <td>0.77492</td>\n",
       "      <td>1.065791</td>\n",
       "      <td>0.999658</td>\n",
       "      <td>0.812019</td>\n",
       "      <td>1.125992</td>\n",
       "      <td>0.784912</td>\n",
       "      <td>0.499624</td>\n",
       "    </tr>\n",
       "    <tr>\n",
       "      <th>min</th>\n",
       "      <td>1.00000</td>\n",
       "      <td>1.000000</td>\n",
       "      <td>1.000000</td>\n",
       "      <td>1.000000</td>\n",
       "      <td>1.000000</td>\n",
       "      <td>1.000000</td>\n",
       "      <td>0.000000</td>\n",
       "    </tr>\n",
       "    <tr>\n",
       "      <th>25%</th>\n",
       "      <td>4.00000</td>\n",
       "      <td>2.000000</td>\n",
       "      <td>3.000000</td>\n",
       "      <td>3.000000</td>\n",
       "      <td>3.000000</td>\n",
       "      <td>4.000000</td>\n",
       "      <td>0.000000</td>\n",
       "    </tr>\n",
       "    <tr>\n",
       "      <th>50%</th>\n",
       "      <td>4.00000</td>\n",
       "      <td>3.000000</td>\n",
       "      <td>3.000000</td>\n",
       "      <td>4.000000</td>\n",
       "      <td>4.000000</td>\n",
       "      <td>4.000000</td>\n",
       "      <td>1.000000</td>\n",
       "    </tr>\n",
       "    <tr>\n",
       "      <th>75%</th>\n",
       "      <td>5.00000</td>\n",
       "      <td>3.000000</td>\n",
       "      <td>4.000000</td>\n",
       "      <td>4.000000</td>\n",
       "      <td>4.000000</td>\n",
       "      <td>5.000000</td>\n",
       "      <td>1.000000</td>\n",
       "    </tr>\n",
       "    <tr>\n",
       "      <th>max</th>\n",
       "      <td>5.00000</td>\n",
       "      <td>5.000000</td>\n",
       "      <td>5.000000</td>\n",
       "      <td>5.000000</td>\n",
       "      <td>5.000000</td>\n",
       "      <td>5.000000</td>\n",
       "      <td>1.000000</td>\n",
       "    </tr>\n",
       "  </tbody>\n",
       "</table>\n",
       "</div>"
      ],
      "text/plain": [
       "               X1           X2           X3           X4           X5  \\\n",
       "count  1000.00000  1000.000000  1000.000000  1000.000000  1000.000000   \n",
       "mean      4.29000     2.585000     3.322000     3.778000     3.653000   \n",
       "std       0.77492     1.065791     0.999658     0.812019     1.125992   \n",
       "min       1.00000     1.000000     1.000000     1.000000     1.000000   \n",
       "25%       4.00000     2.000000     3.000000     3.000000     3.000000   \n",
       "50%       4.00000     3.000000     3.000000     4.000000     4.000000   \n",
       "75%       5.00000     3.000000     4.000000     4.000000     4.000000   \n",
       "max       5.00000     5.000000     5.000000     5.000000     5.000000   \n",
       "\n",
       "                X6            Y  \n",
       "count  1000.000000  1000.000000  \n",
       "mean      4.227000     0.525000  \n",
       "std       0.784912     0.499624  \n",
       "min       1.000000     0.000000  \n",
       "25%       4.000000     0.000000  \n",
       "50%       4.000000     1.000000  \n",
       "75%       5.000000     1.000000  \n",
       "max       5.000000     1.000000  "
      ]
     },
     "execution_count": 5,
     "metadata": {},
     "output_type": "execute_result"
    }
   ],
   "source": [
    "sample_df = pd.concat([X_balanced, y_balanced], axis=1).sample(n=1000, replace=True, random_state=random_state)\n",
    "sample_df.describe()"
   ]
  },
  {
   "cell_type": "code",
   "execution_count": 6,
   "metadata": {},
   "outputs": [
    {
     "data": {
      "image/png": "[encoded data removed]",
      "text/plain": [
       "<Figure size 800x800 with 9 Axes>"
      ]
     },
     "metadata": {},
     "output_type": "display_data"
    }
   ],
   "source": [
    "sample_df.hist(figsize=(8,8));"
   ]
  },
  {
   "cell_type": "code",
   "execution_count": 7,
   "metadata": {},
   "outputs": [
    {
     "name": "stdout",
     "output_type": "stream",
     "text": [
      "\n",
      "\n",
      "Y     0    1\n",
      "X1          \n",
      "1     4    0\n",
      "3   107   66\n",
      "4   228  120\n",
      "5   136  339\n",
      "Y          0         1\n",
      "X1                    \n",
      "1   1.274972 -1.212164\n",
      "3   2.743758 -2.608592\n",
      "4   4.884403 -4.643783\n",
      "5  -5.960702  5.667060\n",
      "\n",
      "\n",
      "Y     0    1\n",
      "X2          \n",
      "1    89   93\n",
      "2    97  173\n",
      "3   205  169\n",
      "4    68   61\n",
      "5    16   29\n",
      "Y          0         1\n",
      "X2                    \n",
      "1   0.274257 -0.260870\n",
      "2  -2.759442  2.624753\n",
      "3   2.051988 -1.951830\n",
      "4   0.859114 -0.817180\n",
      "5  -1.162587  1.105841\n",
      "\n",
      "\n",
      "Y     0    1\n",
      "X3          \n",
      "1    27   22\n",
      "2    56   46\n",
      "3   268  200\n",
      "4    74  166\n",
      "5    50   91\n",
      "Y          0         1\n",
      "X3                    \n",
      "1   0.772114 -0.734427\n",
      "2   1.084676 -1.031733\n",
      "3   3.065113 -2.915504\n",
      "4  -3.746343  3.563483\n",
      "5  -2.074213  1.972970\n",
      "\n",
      "\n",
      "Y     0    1\n",
      "X4          \n",
      "1     0    7\n",
      "2    29    5\n",
      "3   156  165\n",
      "4   217  233\n",
      "5    73  115\n",
      "Y          0         1\n",
      "X4                    \n",
      "1  -1.623146  1.544733\n",
      "2   3.194445 -3.040122\n",
      "3   0.278572 -0.265114\n",
      "4   0.214161 -0.203815\n",
      "5  -1.729634  1.646076\n",
      "\n",
      "\n",
      "Y     0    1\n",
      "X5          \n",
      "1    34   10\n",
      "2    92   53\n",
      "3    85   83\n",
      "4   190  210\n",
      "5    74  169\n",
      "Y          0             1\n",
      "X5                        \n",
      "1   2.865485 -2.725620e+00\n",
      "2   2.786448 -2.650441e+00\n",
      "3   0.582106 -5.536930e-01\n",
      "4   0.000000 -1.961284e-15\n",
      "5  -3.855783  3.667581e+00\n",
      "\n",
      "\n",
      "Y     0    1\n",
      "X6          \n",
      "1     0    3\n",
      "2     7    0\n",
      "3   140   41\n",
      "4   167  211\n",
      "5   161  270\n",
      "Y          0         1\n",
      "X6                    \n",
      "1  -0.901640  0.857674\n",
      "2   1.821085 -1.732284\n",
      "3   5.825872 -5.541787\n",
      "4  -0.937273  0.891569\n",
      "5  -3.056609  2.907561\n"
     ]
    },
    {
     "data": {
      "text/html": [
       "<div>\n",
       "<style scoped>\n",
       "    .dataframe tbody tr th:only-of-type {\n",
       "        vertical-align: middle;\n",
       "    }\n",
       "\n",
       "    .dataframe tbody tr th {\n",
       "        vertical-align: top;\n",
       "    }\n",
       "\n",
       "    .dataframe thead th {\n",
       "        text-align: right;\n",
       "    }\n",
       "</style>\n",
       "<table border=\"1\" class=\"dataframe\">\n",
       "  <thead>\n",
       "    <tr style=\"text-align: right;\">\n",
       "      <th></th>\n",
       "      <th>pearson_r</th>\n",
       "      <th>pearson_p</th>\n",
       "      <th>spearman_rho</th>\n",
       "      <th>spearman_p</th>\n",
       "      <th>kendall_tau</th>\n",
       "      <th>kendall_p</th>\n",
       "    </tr>\n",
       "  </thead>\n",
       "  <tbody>\n",
       "    <tr>\n",
       "      <th>X1</th>\n",
       "      <td>0.312192</td>\n",
       "      <td>4.795208e-24</td>\n",
       "      <td>0.332546</td>\n",
       "      <td>3.017100e-27</td>\n",
       "      <td>0.316233</td>\n",
       "      <td>7.705180e-26</td>\n",
       "    </tr>\n",
       "    <tr>\n",
       "      <th>X2</th>\n",
       "      <td>-0.041591</td>\n",
       "      <td>1.887943e-01</td>\n",
       "      <td>-0.061750</td>\n",
       "      <td>5.092274e-02</td>\n",
       "      <td>-0.056383</td>\n",
       "      <td>5.096993e-02</td>\n",
       "    </tr>\n",
       "    <tr>\n",
       "      <th>X3</th>\n",
       "      <td>0.178273</td>\n",
       "      <td>1.379118e-08</td>\n",
       "      <td>0.198935</td>\n",
       "      <td>2.202049e-10</td>\n",
       "      <td>0.183311</td>\n",
       "      <td>3.221432e-10</td>\n",
       "    </tr>\n",
       "    <tr>\n",
       "      <th>X4</th>\n",
       "      <td>0.087713</td>\n",
       "      <td>5.509809e-03</td>\n",
       "      <td>0.088197</td>\n",
       "      <td>5.254758e-03</td>\n",
       "      <td>0.082768</td>\n",
       "      <td>5.309350e-03</td>\n",
       "    </tr>\n",
       "    <tr>\n",
       "      <th>X5</th>\n",
       "      <td>0.235182</td>\n",
       "      <td>4.931058e-14</td>\n",
       "      <td>0.232145</td>\n",
       "      <td>1.056352e-13</td>\n",
       "      <td>0.212100</td>\n",
       "      <td>2.178060e-13</td>\n",
       "    </tr>\n",
       "    <tr>\n",
       "      <th>X6</th>\n",
       "      <td>0.257358</td>\n",
       "      <td>1.363877e-16</td>\n",
       "      <td>0.251486</td>\n",
       "      <td>6.869113e-16</td>\n",
       "      <td>0.238300</td>\n",
       "      <td>1.884758e-15</td>\n",
       "    </tr>\n",
       "  </tbody>\n",
       "</table>\n",
       "</div>"
      ],
      "text/plain": [
       "    pearson_r     pearson_p  spearman_rho    spearman_p  kendall_tau  \\\n",
       "X1   0.312192  4.795208e-24      0.332546  3.017100e-27     0.316233   \n",
       "X2  -0.041591  1.887943e-01     -0.061750  5.092274e-02    -0.056383   \n",
       "X3   0.178273  1.379118e-08      0.198935  2.202049e-10     0.183311   \n",
       "X4   0.087713  5.509809e-03      0.088197  5.254758e-03     0.082768   \n",
       "X5   0.235182  4.931058e-14      0.232145  1.056352e-13     0.212100   \n",
       "X6   0.257358  1.363877e-16      0.251486  6.869113e-16     0.238300   \n",
       "\n",
       "       kendall_p  \n",
       "X1  7.705180e-26  \n",
       "X2  5.096993e-02  \n",
       "X3  3.221432e-10  \n",
       "X4  5.309350e-03  \n",
       "X5  2.178060e-13  \n",
       "X6  1.884758e-15  "
      ]
     },
     "execution_count": 7,
     "metadata": {},
     "output_type": "execute_result"
    },
    {
     "data": {
      "image/png": "[encoded data removed]",
      "text/plain": [
       "<Figure size 800x1200 with 6 Axes>"
      ]
     },
     "metadata": {},
     "output_type": "display_data"
    }
   ],
   "source": [
    "corr_df = pd.DataFrame(columns=[\"pearson_r\", \"pearson_p\",\n",
    "                                \"spearman_rho\", \"spearman_p\",\n",
    "                                \"kendall_tau\", \"kendall_p\"])\n",
    "fig, axes = plt.subplots(3, 2, figsize=(8,12))\n",
    "for i, col in enumerate(sample_df.drop(\"Y\", axis=1).columns):\n",
    "    sns.barplot(sample_df, x=col, y=\"Y\", ax=axes[i//2, i%2])\n",
    "    x = sample_df[col]\n",
    "    y = sample_df[\"Y\"]\n",
    "    print(\"\\n\")\n",
    "\n",
    "    contingency_table = pd.crosstab(x, y)\n",
    "    # expected_frequencies = expected_freq(contingency_table)\n",
    "    print(contingency_table)\n",
    "    # print(expected_frequencies)\n",
    "    \n",
    "    table = sm.stats.Table(contingency_table)\n",
    "    print(table.resid_pearson)\n",
    "\n",
    "    # chi2, p, dof, expected = stats.chi2_contingency(contingency_table)\n",
    "    # print(chi2, p, dof, expected)\n",
    "    \n",
    "    # print(stats.chisquare(x))\n",
    "\n",
    "    # for power in [1, 0, -1/2, -1]:\n",
    "    #     print(stats.power_divergence(x, lambda_=power))\n",
    "\n",
    "    r, r_p = stats.pearsonr(x, y)\n",
    "    rho, rho_p = stats.spearmanr(x, y)\n",
    "    tau, tau_p = stats.kendalltau(x, y)\n",
    "    corr_dict = {\n",
    "        \"pearson_r\": r,\n",
    "        \"pearson_p\": r_p,\n",
    "        \"spearman_rho\": rho,\n",
    "        \"spearman_p\": rho_p,\n",
    "        \"kendall_tau\": tau,\n",
    "        \"kendall_p\": tau_p}\n",
    "    corr_df = pd.concat([corr_df, pd.DataFrame(corr_dict, index=[col])], axis=0)\n",
    "\n",
    "corr_df"
   ]
  },
  {
   "attachments": {},
   "cell_type": "markdown",
   "metadata": {},
   "source": [
    "- Based on the correlation coefficients, X2 and X4 would not be very helpful when predicting Y.\n",
    "- Based on residuals from the expected frequencies, X1 and X5 would be most relevant in predicting Y; their correlation coefficients with Y are also higher.\n",
    "- Correlation coefficients of X3 and X6 with Y are also high.\n",
    "##### Thus, it would be reasonable to train a model with features without X2 and X4."
   ]
  },
  {
   "cell_type": "code",
   "execution_count": 8,
   "metadata": {},
   "outputs": [
    {
     "data": {
      "image/png": "[encoded data removed]",
      "text/plain": [
       "<Figure size 640x480 with 2 Axes>"
      ]
     },
     "metadata": {},
     "output_type": "display_data"
    },
    {
     "name": "stdout",
     "output_type": "stream",
     "text": [
      "    information_gain  fisher_rank  feature_importance\n",
      "X1          0.051892            1            0.185695\n",
      "X3          0.044857            6            0.184776\n",
      "X2          0.035071            5            0.170685\n",
      "X5          0.006005            4            0.174201\n",
      "X6          0.000000            2            0.134709\n",
      "X4          0.000000            3            0.149935 \n",
      "\n",
      "  information_gain fisher_rank feature_importance\n",
      "0               X1          X1                 X1\n",
      "1               X3          X6                 X3\n",
      "2               X2          X4                 X5\n"
     ]
    }
   ],
   "source": [
    "def get_top_features(df, X, y, target_col=\"Y\", top_n=3, random_state=1, show_heatmap=False, exclude_fisher_rank=False):\n",
    "    # 1. Correlation with the target variable\n",
    "    # plt.figure(figsize=(12,8))\n",
    "    corr = df.corr()\n",
    "    if show_heatmap:\n",
    "        sns.heatmap(corr, annot=True)\n",
    "        plt.show();\n",
    "    \n",
    "    scores_dicts = {}\n",
    "    top_n_dicts = {}\n",
    "    \n",
    "    # corr_dict = {k: v for k, v in sorted(dict(corr[target_col].drop(target_col)).items(), key=lambda item: item[1], reverse=True)}\n",
    "    # scores_dicts[\"correlation_coefficient\"] = corr_dict\n",
    "    # top_n_dicts[\"correlation_coefficient\"] = list(corr_dict.keys())[:top_n]\n",
    "    \n",
    "    # 2. Information gain\n",
    "    # Information gain calculates the reduction in entropy from the transformation of a dataset.\n",
    "    # It can be used for feature selection by evaluating the Information gain of each variable \n",
    "    # in the context of the target variable.\n",
    "    info_gain_scores = mutual_info_classif(X, y, random_state=random_state)\n",
    "    info_gain = {col: info_gain_score for info_gain_score, col in zip(info_gain_scores, X.columns)}\n",
    "    info_gain_sorted = {k: v for k, v in sorted(info_gain.items(), key=lambda item: item[1], reverse=True)}\n",
    "    scores_dicts[\"information_gain\"] = info_gain_sorted\n",
    "    top_n_dicts[\"information_gain\"] = list(info_gain_sorted.keys())[:top_n]\n",
    "    \n",
    "    # 3. Fisher's score\n",
    "    # Fisher score is one of the most widely used supervised feature selection methods.\n",
    "    # The .fisher_score method will return fisher scores where the higher the score, the better.\n",
    "    fisher_scores = fisher_score.fisher_score(X.to_numpy(), y)\n",
    "    fisher_ranks = {col: 6 - fisher_score for fisher_score, col in zip(fisher_scores, X.columns)}\n",
    "    fisher_ranks_sorted = {k: v for k, v in sorted(fisher_ranks.items(), key=lambda item: item[1])}\n",
    "    if not exclude_fisher_rank:\n",
    "        scores_dicts[\"fisher_rank\"] = fisher_ranks_sorted\n",
    "        top_n_dicts[\"fisher_rank\"] = list(fisher_ranks_sorted.keys())[:top_n]\n",
    "    \n",
    "    # 4. Use a simple random forest model for evaluating feature importances, etc.\n",
    "    random_forest = RandomForestClassifier(random_state=random_state)\n",
    "    random_forest.fit(X, y)\n",
    "    feature_importances = random_forest.feature_importances_\n",
    "    feature_importance = {col: feature_importance for feature_importance, col in zip(feature_importances, X.columns)}\n",
    "    feature_importance_sorted = {k: v for k, v in sorted(feature_importance.items(), key=lambda item: item[1], reverse=True)}\n",
    "    scores_dicts[\"feature_importance\"] = feature_importance_sorted\n",
    "    top_n_dicts[\"feature_importance\"] = list(feature_importance_sorted.keys())[:top_n]\n",
    "    \n",
    "    if exclude_fisher_rank:\n",
    "        scores_df = pd.DataFrame(scores_dicts).sort_values(\n",
    "            ['information_gain', 'feature_importance'], ascending=[False, False])\n",
    "    else:\n",
    "        scores_df = pd.DataFrame(scores_dicts).sort_values(\n",
    "            ['information_gain', 'fisher_rank', 'feature_importance'], ascending=[False, True, False])\n",
    "    top_n_df = pd.DataFrame(top_n_dicts)\n",
    "    \n",
    "    return scores_df, top_n_df\n",
    "\n",
    "scores_df, top_n_df = get_top_features(sample_df, X_balanced, y_balanced, \"Y\", show_heatmap=True)\n",
    "print(scores_df, \"\\n\")\n",
    "print(top_n_df)"
   ]
  },
  {
   "attachments": {},
   "cell_type": "markdown",
   "metadata": {},
   "source": [
    "Since information gain and feature importance scores are not fixed due to randomness, get the scores 100 times to see which features are generally more important regardless of randomness."
   ]
  },
  {
   "cell_type": "code",
   "execution_count": 38,
   "metadata": {},
   "outputs": [],
   "source": [
    "X_sampled = sample_df.drop(\"Y\", axis=1)\n",
    "y_sampled = sample_df[\"Y\"]"
   ]
  },
  {
   "cell_type": "code",
   "execution_count": 39,
   "metadata": {},
   "outputs": [
    {
     "data": {
      "text/plain": [
       "{'X4': 12, 'X5': 47, 'X6': 94, 'X2': 107, 'X3': 141, 'X1': 199}"
      ]
     },
     "execution_count": 39,
     "metadata": {},
     "output_type": "execute_result"
    }
   ],
   "source": [
    "top_n_dfs = pd.DataFrame()\n",
    "for i in range(100):\n",
    "    _, top_n_df = get_top_features(sample_df, X_sampled, y_sampled, random_state=i+1, exclude_fisher_rank=True)\n",
    "    top_n_dfs = pd.concat([top_n_dfs, top_n_df])\n",
    "\n",
    "top_n_occurrence = defaultdict(int)\n",
    "for i in range(len(top_n_dfs.columns)):\n",
    "    col_dict = top_n_dfs.iloc[:,i].value_counts().to_dict()\n",
    "    for k, v in col_dict.items():\n",
    "        top_n_occurrence[k] += v\n",
    "\n",
    "top_n_occurrence = dict(sorted(top_n_occurrence.items(), key=lambda item: item[1]))\n",
    "top_n_occurrence"
   ]
  },
  {
   "attachments": {},
   "cell_type": "markdown",
   "metadata": {},
   "source": [
    "Based on information gain and feature importance scores, X1 and X5 are still found to be the most importance features.\n",
    "However, X2 was ranked in top 3 more often than X6, while the correlation coefficient of X6 was higher than X2. "
   ]
  },
  {
   "cell_type": "code",
   "execution_count": 14,
   "metadata": {},
   "outputs": [],
   "source": [
    "def get_mean_accuracy_scores(X, y, columns, n=100, test_size=0.2):\n",
    "    random_state = random.randint(1,100)\n",
    "    \n",
    "    # Choose a simple model as the base model since the data is not complex.\n",
    "    base_model=LogisticRegression(random_state=random_state)\n",
    "    accuracy_scores = []\n",
    "    for i in range(n):\n",
    "        _X = X[columns]\n",
    "        X_train, X_test, y_train, y_test = \\\n",
    "            train_test_split(_X, y, test_size=test_size, random_state=random_state)\n",
    "            \n",
    "        base_model.fit(X_train, y_train)\n",
    "        y_pred = base_model.predict(X_test)\n",
    "        accuracy = accuracy_score(y_test, y_pred)\n",
    "        accuracy_scores.append(accuracy)\n",
    "\n",
    "    print(f\"Mean accuracy score with columns {columns}: {round(np.mean(accuracy_scores), 2)}\")"
   ]
  },
  {
   "cell_type": "code",
   "execution_count": 40,
   "metadata": {},
   "outputs": [
    {
     "name": "stdout",
     "output_type": "stream",
     "text": [
      "Mean accuracy score with columns ['X2', 'X3', 'X4', 'X5', 'X6']: 0.86\n",
      "Mean accuracy score with columns ['X1', 'X3', 'X4', 'X5', 'X6']: 0.88\n",
      "Mean accuracy score with columns ['X1', 'X2', 'X4', 'X5', 'X6']: 0.86\n",
      "Mean accuracy score with columns ['X1', 'X2', 'X3', 'X5', 'X6']: 0.93\n",
      "Mean accuracy score with columns ['X1', 'X2', 'X3', 'X4', 'X6']: 0.92\n",
      "Mean accuracy score with columns ['X1', 'X2', 'X3', 'X4', 'X5']: 0.93\n"
     ]
    }
   ],
   "source": [
    "for col in X_sampled.columns:\n",
    "    columns = list(X_sampled.columns)\n",
    "    columns.remove(col)\n",
    "    get_mean_accuracy_scores(X_sampled, y_sampled, columns)"
   ]
  },
  {
   "cell_type": "code",
   "execution_count": 41,
   "metadata": {},
   "outputs": [
    {
     "name": "stdout",
     "output_type": "stream",
     "text": [
      "Mean accuracy score with columns ['X1']: 0.64\n",
      "Mean accuracy score with columns ['X2']: 0.6\n",
      "Mean accuracy score with columns ['X3']: 0.58\n",
      "Mean accuracy score with columns ['X4']: 0.54\n",
      "Mean accuracy score with columns ['X5']: 0.58\n",
      "Mean accuracy score with columns ['X6']: 0.6\n"
     ]
    }
   ],
   "source": [
    "for col in X_sampled.columns:\n",
    "    get_mean_accuracy_scores(X_sampled, y_sampled, [col])"
   ]
  },
  {
   "cell_type": "code",
   "execution_count": 42,
   "metadata": {},
   "outputs": [],
   "source": [
    "X_train, X_test, y_train, y_test = \\\n",
    "    train_test_split(X_sampled, y_sampled, test_size=0.2, random_state=random_state)"
   ]
  },
  {
   "cell_type": "code",
   "execution_count": 43,
   "metadata": {},
   "outputs": [
    {
     "data": {
      "text/plain": [
       "0.855"
      ]
     },
     "execution_count": 43,
     "metadata": {},
     "output_type": "execute_result"
    }
   ],
   "source": [
    "tuned_model = GradientBoostingClassifier(ccp_alpha=0.0, criterion='friedman_mse', init=None,\n",
    "                           learning_rate=0.4, loss='deviance', max_depth=3,\n",
    "                           max_features='sqrt', max_leaf_nodes=None,\n",
    "                           min_impurity_decrease=0.4, min_impurity_split=None,\n",
    "                           min_samples_leaf=1, min_samples_split=5,\n",
    "                           min_weight_fraction_leaf=0.0, n_estimators=60,\n",
    "                           n_iter_no_change=None, presort='deprecated',\n",
    "                           random_state=1, subsample=0.6, tol=0.0001,\n",
    "                           validation_fraction=0.1, verbose=0,\n",
    "                           warm_start=False)\n",
    "tuned_model.fit(X_train, y_train)\n",
    "y_pred = tuned_model.predict(X_test)\n",
    "accuracy_score(y_test, y_pred)"
   ]
  },
  {
   "cell_type": "code",
   "execution_count": 23,
   "metadata": {},
   "outputs": [],
   "source": [
    "def randomized_search(model, X_train, y_train, params, scoring=\"accuracy\", random_state=1, test_size=0.2):\n",
    "    sss = StratifiedShuffleSplit(random_state=random_state, test_size=test_size) # n_splits=10 by default\n",
    "    best_searched = RandomizedSearchCV(estimator=model, param_distributions=params, cv=sss,\n",
    "                                        scoring=scoring, random_state=random_state) # n_iter=10 by default\n",
    "    best_searched.fit(X_train, y_train)\n",
    "    return best_searched"
   ]
  },
  {
   "cell_type": "code",
   "execution_count": 33,
   "metadata": {},
   "outputs": [
    {
     "ename": "OverflowError",
     "evalue": "Python int too large to convert to C long",
     "output_type": "error",
     "traceback": [
      "\u001b[1;31m---------------------------------------------------------------------------\u001b[0m",
      "\u001b[1;31mOverflowError\u001b[0m                             Traceback (most recent call last)",
      "Cell \u001b[1;32mIn[33], line 11\u001b[0m\n\u001b[0;32m      1\u001b[0m params \u001b[39m=\u001b[39m {\n\u001b[0;32m      2\u001b[0m     \u001b[39m\"\u001b[39m\u001b[39mpenalty\u001b[39m\u001b[39m\"\u001b[39m: [\u001b[39m\"\u001b[39m\u001b[39ml1\u001b[39m\u001b[39m\"\u001b[39m, \u001b[39m\"\u001b[39m\u001b[39ml2\u001b[39m\u001b[39m\"\u001b[39m, \u001b[39m\"\u001b[39m\u001b[39melasticnet\u001b[39m\u001b[39m\"\u001b[39m, \u001b[39mNone\u001b[39;00m],\n\u001b[0;32m      3\u001b[0m     \u001b[39m\"\u001b[39m\u001b[39mtol\u001b[39m\u001b[39m\"\u001b[39m: np\u001b[39m.\u001b[39marange(\u001b[39m0.0001\u001b[39m, \u001b[39m1\u001b[39m, \u001b[39m0.0001\u001b[39m),\n\u001b[1;32m   (...)\u001b[0m\n\u001b[0;32m      8\u001b[0m     \u001b[39m\"\u001b[39m\u001b[39ml1_ratio\u001b[39m\u001b[39m\"\u001b[39m: np\u001b[39m.\u001b[39marange(\u001b[39m0.01\u001b[39m, \u001b[39m1\u001b[39m, \u001b[39m0.01\u001b[39m)\n\u001b[0;32m      9\u001b[0m }\n\u001b[1;32m---> 11\u001b[0m best_searched \u001b[39m=\u001b[39m randomized_search(model, X_train, y_train, params)\n\u001b[0;32m     12\u001b[0m best_searched\u001b[39m.\u001b[39mbest_estimator_, best_searched\u001b[39m.\u001b[39mbest_score_, best_searched\u001b[39m.\u001b[39mbest_params_\n",
      "Cell \u001b[1;32mIn[23], line 5\u001b[0m, in \u001b[0;36mrandomized_search\u001b[1;34m(model, X_train, y_train, params, scoring, random_state, test_size)\u001b[0m\n\u001b[0;32m      2\u001b[0m sss \u001b[39m=\u001b[39m StratifiedShuffleSplit(random_state\u001b[39m=\u001b[39mrandom_state, test_size\u001b[39m=\u001b[39mtest_size) \u001b[39m# n_splits=10 by default\u001b[39;00m\n\u001b[0;32m      3\u001b[0m best_searched \u001b[39m=\u001b[39m RandomizedSearchCV(estimator\u001b[39m=\u001b[39mmodel, param_distributions\u001b[39m=\u001b[39mparams, cv\u001b[39m=\u001b[39msss,\n\u001b[0;32m      4\u001b[0m                                     scoring\u001b[39m=\u001b[39mscoring, random_state\u001b[39m=\u001b[39mrandom_state) \u001b[39m# n_iter=10 by default\u001b[39;00m\n\u001b[1;32m----> 5\u001b[0m best_searched\u001b[39m.\u001b[39;49mfit(X_train, y_train)\n\u001b[0;32m      6\u001b[0m \u001b[39mreturn\u001b[39;00m best_searched\n",
      "File \u001b[1;32mc:\\Users\\Admin\\AppData\\Local\\Programs\\Python\\Python38\\lib\\site-packages\\sklearn\\utils\\validation.py:72\u001b[0m, in \u001b[0;36m_deprecate_positional_args.<locals>.inner_f\u001b[1;34m(*args, **kwargs)\u001b[0m\n\u001b[0;32m     67\u001b[0m     warnings\u001b[39m.\u001b[39mwarn(\u001b[39m\"\u001b[39m\u001b[39mPass \u001b[39m\u001b[39m{}\u001b[39;00m\u001b[39m as keyword args. From version 0.25 \u001b[39m\u001b[39m\"\u001b[39m\n\u001b[0;32m     68\u001b[0m                   \u001b[39m\"\u001b[39m\u001b[39mpassing these as positional arguments will \u001b[39m\u001b[39m\"\u001b[39m\n\u001b[0;32m     69\u001b[0m                   \u001b[39m\"\u001b[39m\u001b[39mresult in an error\u001b[39m\u001b[39m\"\u001b[39m\u001b[39m.\u001b[39mformat(\u001b[39m\"\u001b[39m\u001b[39m, \u001b[39m\u001b[39m\"\u001b[39m\u001b[39m.\u001b[39mjoin(args_msg)),\n\u001b[0;32m     70\u001b[0m                   \u001b[39mFutureWarning\u001b[39;00m)\n\u001b[0;32m     71\u001b[0m kwargs\u001b[39m.\u001b[39mupdate({k: arg \u001b[39mfor\u001b[39;00m k, arg \u001b[39min\u001b[39;00m \u001b[39mzip\u001b[39m(sig\u001b[39m.\u001b[39mparameters, args)})\n\u001b[1;32m---> 72\u001b[0m \u001b[39mreturn\u001b[39;00m f(\u001b[39m*\u001b[39;49m\u001b[39m*\u001b[39;49mkwargs)\n",
      "File \u001b[1;32mc:\\Users\\Admin\\AppData\\Local\\Programs\\Python\\Python38\\lib\\site-packages\\sklearn\\model_selection\\_search.py:736\u001b[0m, in \u001b[0;36mBaseSearchCV.fit\u001b[1;34m(self, X, y, groups, **fit_params)\u001b[0m\n\u001b[0;32m    732\u001b[0m         results \u001b[39m=\u001b[39m \u001b[39mself\u001b[39m\u001b[39m.\u001b[39m_format_results(\n\u001b[0;32m    733\u001b[0m             all_candidate_params, scorers, n_splits, all_out)\n\u001b[0;32m    734\u001b[0m         \u001b[39mreturn\u001b[39;00m results\n\u001b[1;32m--> 736\u001b[0m     \u001b[39mself\u001b[39;49m\u001b[39m.\u001b[39;49m_run_search(evaluate_candidates)\n\u001b[0;32m    738\u001b[0m \u001b[39m# For multi-metric evaluation, store the best_index_, best_params_ and\u001b[39;00m\n\u001b[0;32m    739\u001b[0m \u001b[39m# best_score_ iff refit is one of the scorer names\u001b[39;00m\n\u001b[0;32m    740\u001b[0m \u001b[39m# In single metric evaluation, refit_metric is \"score\"\u001b[39;00m\n\u001b[0;32m    741\u001b[0m \u001b[39mif\u001b[39;00m \u001b[39mself\u001b[39m\u001b[39m.\u001b[39mrefit \u001b[39mor\u001b[39;00m \u001b[39mnot\u001b[39;00m \u001b[39mself\u001b[39m\u001b[39m.\u001b[39mmultimetric_:\n\u001b[0;32m    742\u001b[0m     \u001b[39m# If callable, refit is expected to return the index of the best\u001b[39;00m\n\u001b[0;32m    743\u001b[0m     \u001b[39m# parameter set.\u001b[39;00m\n",
      "File \u001b[1;32mc:\\Users\\Admin\\AppData\\Local\\Programs\\Python\\Python38\\lib\\site-packages\\sklearn\\model_selection\\_search.py:1529\u001b[0m, in \u001b[0;36mRandomizedSearchCV._run_search\u001b[1;34m(self, evaluate_candidates)\u001b[0m\n\u001b[0;32m   1527\u001b[0m \u001b[39mdef\u001b[39;00m \u001b[39m_run_search\u001b[39m(\u001b[39mself\u001b[39m, evaluate_candidates):\n\u001b[0;32m   1528\u001b[0m \u001b[39m    \u001b[39m\u001b[39m\"\"\"Search n_iter candidates from param_distributions\"\"\"\u001b[39;00m\n\u001b[1;32m-> 1529\u001b[0m     evaluate_candidates(ParameterSampler(\n\u001b[0;32m   1530\u001b[0m         \u001b[39mself\u001b[39;49m\u001b[39m.\u001b[39;49mparam_distributions, \u001b[39mself\u001b[39;49m\u001b[39m.\u001b[39;49mn_iter,\n\u001b[0;32m   1531\u001b[0m         random_state\u001b[39m=\u001b[39;49m\u001b[39mself\u001b[39;49m\u001b[39m.\u001b[39;49mrandom_state))\n",
      "File \u001b[1;32mc:\\Users\\Admin\\AppData\\Local\\Programs\\Python\\Python38\\lib\\site-packages\\sklearn\\model_selection\\_search.py:700\u001b[0m, in \u001b[0;36mBaseSearchCV.fit.<locals>.evaluate_candidates\u001b[1;34m(candidate_params)\u001b[0m\n\u001b[0;32m    699\u001b[0m \u001b[39mdef\u001b[39;00m \u001b[39mevaluate_candidates\u001b[39m(candidate_params):\n\u001b[1;32m--> 700\u001b[0m     candidate_params \u001b[39m=\u001b[39m \u001b[39mlist\u001b[39;49m(candidate_params)\n\u001b[0;32m    701\u001b[0m     n_candidates \u001b[39m=\u001b[39m \u001b[39mlen\u001b[39m(candidate_params)\n\u001b[0;32m    703\u001b[0m     \u001b[39mif\u001b[39;00m \u001b[39mself\u001b[39m\u001b[39m.\u001b[39mverbose \u001b[39m>\u001b[39m \u001b[39m0\u001b[39m:\n",
      "File \u001b[1;32mc:\\Users\\Admin\\AppData\\Local\\Programs\\Python\\Python38\\lib\\site-packages\\sklearn\\model_selection\\_search.py:284\u001b[0m, in \u001b[0;36mParameterSampler.__iter__\u001b[1;34m(self)\u001b[0m\n\u001b[0;32m    278\u001b[0m         warnings\u001b[39m.\u001b[39mwarn(\n\u001b[0;32m    279\u001b[0m             \u001b[39m'\u001b[39m\u001b[39mThe total space of parameters \u001b[39m\u001b[39m%d\u001b[39;00m\u001b[39m is smaller \u001b[39m\u001b[39m'\u001b[39m\n\u001b[0;32m    280\u001b[0m             \u001b[39m'\u001b[39m\u001b[39mthan n_iter=\u001b[39m\u001b[39m%d\u001b[39;00m\u001b[39m. Running \u001b[39m\u001b[39m%d\u001b[39;00m\u001b[39m iterations. For exhaustive \u001b[39m\u001b[39m'\u001b[39m\n\u001b[0;32m    281\u001b[0m             \u001b[39m'\u001b[39m\u001b[39msearches, use GridSearchCV.\u001b[39m\u001b[39m'\u001b[39m\n\u001b[0;32m    282\u001b[0m             \u001b[39m%\u001b[39m (grid_size, \u001b[39mself\u001b[39m\u001b[39m.\u001b[39mn_iter, grid_size), \u001b[39mUserWarning\u001b[39;00m)\n\u001b[0;32m    283\u001b[0m         n_iter \u001b[39m=\u001b[39m grid_size\n\u001b[1;32m--> 284\u001b[0m     \u001b[39mfor\u001b[39;00m i \u001b[39min\u001b[39;00m sample_without_replacement(grid_size, n_iter,\n\u001b[0;32m    285\u001b[0m                                         random_state\u001b[39m=\u001b[39;49mrng):\n\u001b[0;32m    286\u001b[0m         \u001b[39myield\u001b[39;00m param_grid[i]\n\u001b[0;32m    288\u001b[0m \u001b[39melse\u001b[39;00m:\n",
      "File \u001b[1;32msklearn\\utils\\_random.pyx:226\u001b[0m, in \u001b[0;36msklearn.utils._random.sample_without_replacement\u001b[1;34m()\u001b[0m\n",
      "\u001b[1;31mOverflowError\u001b[0m: Python int too large to convert to C long"
     ]
    }
   ],
   "source": [
    "params = {\n",
    "    \"penalty\": [\"l1\", \"l2\", \"elasticnet\", None],\n",
    "    \"tol\": np.arange(0.0001, 1, 0.0001),\n",
    "    \"C\": np.arange(0.0001, 1, 0.0001),\n",
    "    \"fit_intercept\": [True, False],\n",
    "    \"intercept_scaling\": np.arange(0.01, 1, 0.01),\n",
    "    \"solver\": [\"lbfgs\", \"liblinear\", \"newton-cg\", \"newton-cholesky\", \"sag\", \"saga\"],\n",
    "    \"l1_ratio\": np.arange(0.01, 1, 0.01)\n",
    "}\n",
    "\n",
    "base_model=LogisticRegression(random_state=random_state)\n",
    "best_searched = randomized_search(base_model, X_train, y_train, params)\n",
    "best_searched.best_estimator_, best_searched.best_score_, best_searched.best_params_"
   ]
  },
  {
   "attachments": {},
   "cell_type": "markdown",
   "metadata": {},
   "source": [
    "# Since feature selection is completed, split sample_df into train, validate, and test sets.\n",
    "- Validate set will be used for model selection and hyperparameter tuning; since the data set is small and not very complex, a simple model like logistic regression might be more suitable than more complex models that could easily overfit.\n",
    "- For more complex models, try regularization.\n",
    "- Test set will only be used for evaluation of the hyperparameter-tuned model.\n",
    "\n",
    "* https://www.kaggle.com/code/rafjaa/dealing-with-very-small-datasets"
   ]
  },
  {
   "cell_type": "markdown",
   "metadata": {},
   "source": []
  }
 ],
 "metadata": {
  "kernelspec": {
   "display_name": "Python 3",
   "language": "python",
   "name": "python3"
  },
  "language_info": {
   "codemirror_mode": {
    "name": "ipython",
    "version": 3
   },
   "file_extension": ".py",
   "mimetype": "text/x-python",
   "name": "python",
   "nbconvert_exporter": "python",
   "pygments_lexer": "ipython3",
   "version": "3.8.10"
  },
  "orig_nbformat": 4,
  "vscode": {
   "interpreter": {
    "hash": "a4868653bb6f8972e87e4c446ab8a445a15b25dedb8594cc74c480f8152ea86a"
   }
  }
 },
 "nbformat": 4,
 "nbformat_minor": 2
}
