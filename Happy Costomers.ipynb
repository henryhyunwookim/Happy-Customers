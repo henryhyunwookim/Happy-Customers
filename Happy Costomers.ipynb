{
 "cells": [
  {
   "attachments": {},
   "cell_type": "markdown",
   "metadata": {},
   "source": [
    "##### <b>1. Load custom functions</b>"
   ]
  },
  {
   "cell_type": "code",
   "execution_count": 224,
   "metadata": {},
   "outputs": [],
   "source": [
    "from functions import *\n",
    "random_state = 1"
   ]
  },
  {
   "attachments": {},
   "cell_type": "markdown",
   "metadata": {},
   "source": [
    "##### <b>2. Load data and perform EDA (Exploratory Data Analysis)</b>"
   ]
  },
  {
   "cell_type": "code",
   "execution_count": 225,
   "metadata": {},
   "outputs": [
    {
     "name": "stdout",
     "output_type": "stream",
     "text": [
      "   Y  X1  X2  X3  X4  X5  X6\n",
      "0  0   3   3   3   4   2   4\n",
      "1  0   3   2   3   5   4   3\n",
      "2  1   5   3   3   3   3   5\n",
      "3  0   5   4   3   3   3   5\n",
      "4  0   5   4   3   3   3   5 \n",
      "\n",
      "<class 'pandas.core.frame.DataFrame'>\n",
      "RangeIndex: 126 entries, 0 to 125\n",
      "Data columns (total 7 columns):\n",
      " #   Column  Non-Null Count  Dtype\n",
      "---  ------  --------------  -----\n",
      " 0   Y       126 non-null    int64\n",
      " 1   X1      126 non-null    int64\n",
      " 2   X2      126 non-null    int64\n",
      " 3   X3      126 non-null    int64\n",
      " 4   X4      126 non-null    int64\n",
      " 5   X5      126 non-null    int64\n",
      " 6   X6      126 non-null    int64\n",
      "dtypes: int64(7)\n",
      "memory usage: 7.0 KB\n",
      "None \n",
      "\n"
     ]
    },
    {
     "data": {
      "text/html": [
       "<div>\n",
       "<style scoped>\n",
       "    .dataframe tbody tr th:only-of-type {\n",
       "        vertical-align: middle;\n",
       "    }\n",
       "\n",
       "    .dataframe tbody tr th {\n",
       "        vertical-align: top;\n",
       "    }\n",
       "\n",
       "    .dataframe thead th {\n",
       "        text-align: right;\n",
       "    }\n",
       "</style>\n",
       "<table border=\"1\" class=\"dataframe\">\n",
       "  <thead>\n",
       "    <tr style=\"text-align: right;\">\n",
       "      <th></th>\n",
       "      <th>Y</th>\n",
       "      <th>X1</th>\n",
       "      <th>X2</th>\n",
       "      <th>X3</th>\n",
       "      <th>X4</th>\n",
       "      <th>X5</th>\n",
       "      <th>X6</th>\n",
       "    </tr>\n",
       "  </thead>\n",
       "  <tbody>\n",
       "    <tr>\n",
       "      <th>count</th>\n",
       "      <td>126.000000</td>\n",
       "      <td>126.000000</td>\n",
       "      <td>126.000000</td>\n",
       "      <td>126.000000</td>\n",
       "      <td>126.000000</td>\n",
       "      <td>126.000000</td>\n",
       "      <td>126.000000</td>\n",
       "    </tr>\n",
       "    <tr>\n",
       "      <th>mean</th>\n",
       "      <td>0.547619</td>\n",
       "      <td>4.333333</td>\n",
       "      <td>2.531746</td>\n",
       "      <td>3.309524</td>\n",
       "      <td>3.746032</td>\n",
       "      <td>3.650794</td>\n",
       "      <td>4.253968</td>\n",
       "    </tr>\n",
       "    <tr>\n",
       "      <th>std</th>\n",
       "      <td>0.499714</td>\n",
       "      <td>0.800000</td>\n",
       "      <td>1.114892</td>\n",
       "      <td>1.023440</td>\n",
       "      <td>0.875776</td>\n",
       "      <td>1.147641</td>\n",
       "      <td>0.809311</td>\n",
       "    </tr>\n",
       "    <tr>\n",
       "      <th>min</th>\n",
       "      <td>0.000000</td>\n",
       "      <td>1.000000</td>\n",
       "      <td>1.000000</td>\n",
       "      <td>1.000000</td>\n",
       "      <td>1.000000</td>\n",
       "      <td>1.000000</td>\n",
       "      <td>1.000000</td>\n",
       "    </tr>\n",
       "    <tr>\n",
       "      <th>25%</th>\n",
       "      <td>0.000000</td>\n",
       "      <td>4.000000</td>\n",
       "      <td>2.000000</td>\n",
       "      <td>3.000000</td>\n",
       "      <td>3.000000</td>\n",
       "      <td>3.000000</td>\n",
       "      <td>4.000000</td>\n",
       "    </tr>\n",
       "    <tr>\n",
       "      <th>50%</th>\n",
       "      <td>1.000000</td>\n",
       "      <td>5.000000</td>\n",
       "      <td>3.000000</td>\n",
       "      <td>3.000000</td>\n",
       "      <td>4.000000</td>\n",
       "      <td>4.000000</td>\n",
       "      <td>4.000000</td>\n",
       "    </tr>\n",
       "    <tr>\n",
       "      <th>75%</th>\n",
       "      <td>1.000000</td>\n",
       "      <td>5.000000</td>\n",
       "      <td>3.000000</td>\n",
       "      <td>4.000000</td>\n",
       "      <td>4.000000</td>\n",
       "      <td>4.000000</td>\n",
       "      <td>5.000000</td>\n",
       "    </tr>\n",
       "    <tr>\n",
       "      <th>max</th>\n",
       "      <td>1.000000</td>\n",
       "      <td>5.000000</td>\n",
       "      <td>5.000000</td>\n",
       "      <td>5.000000</td>\n",
       "      <td>5.000000</td>\n",
       "      <td>5.000000</td>\n",
       "      <td>5.000000</td>\n",
       "    </tr>\n",
       "  </tbody>\n",
       "</table>\n",
       "</div>"
      ],
      "text/plain": [
       "                Y          X1          X2          X3          X4          X5  \\\n",
       "count  126.000000  126.000000  126.000000  126.000000  126.000000  126.000000   \n",
       "mean     0.547619    4.333333    2.531746    3.309524    3.746032    3.650794   \n",
       "std      0.499714    0.800000    1.114892    1.023440    0.875776    1.147641   \n",
       "min      0.000000    1.000000    1.000000    1.000000    1.000000    1.000000   \n",
       "25%      0.000000    4.000000    2.000000    3.000000    3.000000    3.000000   \n",
       "50%      1.000000    5.000000    3.000000    3.000000    4.000000    4.000000   \n",
       "75%      1.000000    5.000000    3.000000    4.000000    4.000000    4.000000   \n",
       "max      1.000000    5.000000    5.000000    5.000000    5.000000    5.000000   \n",
       "\n",
       "               X6  \n",
       "count  126.000000  \n",
       "mean     4.253968  \n",
       "std      0.809311  \n",
       "min      1.000000  \n",
       "25%      4.000000  \n",
       "50%      4.000000  \n",
       "75%      5.000000  \n",
       "max      5.000000  "
      ]
     },
     "execution_count": 225,
     "metadata": {},
     "output_type": "execute_result"
    }
   ],
   "source": [
    "survey_df = load_data(folder_name=\"data\", file_name=\"ACME-HappinessSurvey2020.csv\")\n",
    "print(survey_df.head(), \"\\n\")\n",
    "print(survey_df.info(), \"\\n\")\n",
    "survey_df.describe()"
   ]
  },
  {
   "attachments": {},
   "cell_type": "markdown",
   "metadata": {},
   "source": [
    "The data set is simple - only 126 rows and 6 columns, all integer data type with a range between 0 and 5.<br>\n",
    "<br>\n",
    "Since the target variable Y is a categorical variable (0 - unhappy, 1 - happy), convert it accordingly in the data frame.\n"
   ]
  },
  {
   "cell_type": "code",
   "execution_count": 226,
   "metadata": {},
   "outputs": [],
   "source": [
    "survey_df[\"Y\"] = survey_df[\"Y\"].astype('category').cat.set_categories([0, 1], ordered=True)"
   ]
  },
  {
   "attachments": {},
   "cell_type": "markdown",
   "metadata": {},
   "source": [
    "Plot histograms to understand the distribution of each column."
   ]
  },
  {
   "cell_type": "code",
   "execution_count": 227,
   "metadata": {},
   "outputs": [
    {
     "name": "stdout",
     "output_type": "stream",
     "text": [
      "Distribution of target Y and dependent variables:\n"
     ]
    },
    {
     "data": {
      "image/png": "[encoded data removed]",
      "text/plain": [
       "<Figure size 200x200 with 1 Axes>"
      ]
     },
     "metadata": {},
     "output_type": "display_data"
    },
    {
     "data": {
      "image/png": "[encoded data removed]",
      "text/plain": [
       "<Figure size 800x600 with 6 Axes>"
      ]
     },
     "metadata": {},
     "output_type": "display_data"
    }
   ],
   "source": [
    "# plot_histograms(data=survey_df,\n",
    "#                 target=\"Y\", target_figsize=(2,2),\n",
    "#                 dependent_layout=(2,3), dependent_figsize=(8,6))"
   ]
  },
  {
   "attachments": {},
   "cell_type": "markdown",
   "metadata": {},
   "source": [
    "For the target variable Y, the distribution is slightly uneven, with more happy customers in the survey data.<br>\n",
    "<b>To deal with this class imbalance problem, SMOTE (synthetic minority oversampling technique) will be used in the next stages.</b><br>\n",
    "<br>\n",
    "The distribution of each dependent variable is also not uniform. However, it would not matter too much as long as the variables/features can provide predictive power.<br>\n",
    "To better understand these features, perform Chi-square tests."
   ]
  },
  {
   "attachments": {},
   "cell_type": "markdown",
   "metadata": {},
   "source": [
    "##### <b>3. Feature selection</b>"
   ]
  },
  {
   "cell_type": "code",
   "execution_count": 228,
   "metadata": {},
   "outputs": [
    {
     "name": "stdout",
     "output_type": "stream",
     "text": [
      "----------------------------------------------------------------------------\n",
      "----------------------------------------------------------------------------\n",
      "1. Chi-square test of goodness of fit\n",
      "----------------------------------------------------------------------------\n",
      "----------------------------------------------------------------------------\n",
      "Contingecy table for X1 and Y:\n",
      "Y    0   1\n",
      "X1        \n",
      "1    1   0\n",
      "3   12   8\n",
      "4   24  16\n",
      "5   20  45 \n",
      "\n",
      "Expected frequencies for X1 and Y:\n",
      "[[ 0.45238095  0.54761905]\n",
      " [ 9.04761905 10.95238095]\n",
      " [18.0952381  21.9047619 ]\n",
      " [29.4047619  35.5952381 ]]\n",
      "\n",
      "Testing goodness of fit for X1.\n",
      "\n",
      "Null hypothesis: There is no significant difference between X1 and the expected frequencies\n",
      "Chi-square statistic: 18.46153846153846\n",
      "P-value: 1.0\n",
      "Failed to reject the null hypothesis\n",
      "=> X1 is representative of the population at alpha=0.05\n",
      "--------------------------------------\n",
      "Contingecy table for X2 and Y:\n",
      "Y    0   1\n",
      "X2        \n",
      "1   13  14\n",
      "2   13  21\n",
      "3   19  23\n",
      "4   10   7\n",
      "5    2   4 \n",
      "\n",
      "Expected frequencies for X2 and Y:\n",
      "[[12.21428571 14.78571429]\n",
      " [15.38095238 18.61904762]\n",
      " [19.         23.        ]\n",
      " [ 7.69047619  9.30952381]\n",
      " [ 2.71428571  3.28571429]]\n",
      "\n",
      "Testing goodness of fit for X2.\n",
      "\n",
      "Null hypothesis: There is no significant difference between X2 and the expected frequencies\n",
      "Chi-square statistic: 61.36990595611287\n",
      "P-value: 0.9999996901821208\n",
      "Failed to reject the null hypothesis\n",
      "=> X2 is representative of the population at alpha=0.05\n",
      "--------------------------------------\n",
      "Contingecy table for X3 and Y:\n",
      "Y    0   1\n",
      "X3        \n",
      "1    4   3\n",
      "2    7   7\n",
      "3   29  26\n",
      "4   11  22\n",
      "5    6  11 \n",
      "\n",
      "Expected frequencies for X3 and Y:\n",
      "[[ 3.16666667  3.83333333]\n",
      " [ 6.33333333  7.66666667]\n",
      " [24.88095238 30.11904762]\n",
      " [14.92857143 18.07142857]\n",
      " [ 7.69047619  9.30952381]]\n",
      "\n",
      "Testing goodness of fit for X3.\n",
      "\n",
      "Null hypothesis: There is no significant difference between X3 and the expected frequencies\n",
      "Chi-square statistic: 39.561151079136685\n",
      "P-value: 0.9999999999999846\n",
      "Failed to reject the null hypothesis\n",
      "=> X3 is representative of the population at alpha=0.05\n",
      "--------------------------------------\n",
      "Contingecy table for X4 and Y:\n",
      "Y    0   1\n",
      "X4        \n",
      "1    0   2\n",
      "2    4   1\n",
      "3   20  21\n",
      "4   23  30\n",
      "5   10  15 \n",
      "\n",
      "Expected frequencies for X4 and Y:\n",
      "[[ 0.9047619   1.0952381 ]\n",
      " [ 2.26190476  2.73809524]\n",
      " [18.54761905 22.45238095]\n",
      " [23.97619048 29.02380952]\n",
      " [11.30952381 13.69047619]]\n",
      "\n",
      "Testing goodness of fit for X4.\n",
      "\n",
      "Null hypothesis: There is no significant difference between X4 and the expected frequencies\n",
      "Chi-square statistic: 25.593220338983052\n",
      "P-value: 1.0\n",
      "Failed to reject the null hypothesis\n",
      "=> X4 is representative of the population at alpha=0.05\n",
      "--------------------------------------\n",
      "Contingecy table for X5 and Y:\n",
      "Y    0   1\n",
      "X5        \n",
      "1    5   2\n",
      "2    9   7\n",
      "3   12  10\n",
      "4   22  28\n",
      "5    9  22 \n",
      "\n",
      "Expected frequencies for X5 and Y:\n",
      "[[ 3.16666667  3.83333333]\n",
      " [ 7.23809524  8.76190476]\n",
      " [ 9.95238095 12.04761905]\n",
      " [22.61904762 27.38095238]\n",
      " [14.02380952 16.97619048]]\n",
      "\n",
      "Testing goodness of fit for X5.\n",
      "\n",
      "Null hypothesis: There is no significant difference between X5 and the expected frequencies\n",
      "Chi-square statistic: 45.095652173913045\n",
      "P-value: 0.9999999999962976\n",
      "Failed to reject the null hypothesis\n",
      "=> X5 is representative of the population at alpha=0.05\n",
      "--------------------------------------\n",
      "Contingecy table for X6 and Y:\n",
      "Y    0   1\n",
      "X6        \n",
      "1    0   1\n",
      "2    1   0\n",
      "3   14   6\n",
      "4   20  27\n",
      "5   22  35 \n",
      "\n",
      "Expected frequencies for X6 and Y:\n",
      "[[ 0.45238095  0.54761905]\n",
      " [ 0.45238095  0.54761905]\n",
      " [ 9.04761905 10.95238095]\n",
      " [21.26190476 25.73809524]\n",
      " [25.78571429 31.21428571]]\n",
      "\n",
      "Testing goodness of fit for X6.\n",
      "\n",
      "Null hypothesis: There is no significant difference between X6 and the expected frequencies\n",
      "Chi-square statistic: 19.246268656716417\n",
      "P-value: 1.0\n",
      "Failed to reject the null hypothesis\n",
      "=> X6 is representative of the population at alpha=0.05\n",
      "--------------------------------------\n",
      "----------------------------------------------------------------------------\n",
      "----------------------------------------------------------------------------\n",
      "2. Chi-square test of independence\n",
      "----------------------------------------------------------------------------\n",
      "----------------------------------------------------------------------------\n",
      "Table 1. Result of Chi-square test of independence (X1-6 and Y)\n"
     ]
    },
    {
     "data": {
      "text/html": [
       "<div>\n",
       "<style scoped>\n",
       "    .dataframe tbody tr th:only-of-type {\n",
       "        vertical-align: middle;\n",
       "    }\n",
       "\n",
       "    .dataframe tbody tr th {\n",
       "        vertical-align: top;\n",
       "    }\n",
       "\n",
       "    .dataframe thead th {\n",
       "        text-align: right;\n",
       "    }\n",
       "</style>\n",
       "<table border=\"1\" class=\"dataframe\">\n",
       "  <thead>\n",
       "    <tr style=\"text-align: right;\">\n",
       "      <th></th>\n",
       "      <th>Chi-square</th>\n",
       "      <th>P-value</th>\n",
       "      <th>Null Hypothesis</th>\n",
       "      <th>Reject Null Hypothesis at alpha=0.05?</th>\n",
       "    </tr>\n",
       "    <tr>\n",
       "      <th>Independent Variable</th>\n",
       "      <th></th>\n",
       "      <th></th>\n",
       "      <th></th>\n",
       "      <th></th>\n",
       "    </tr>\n",
       "  </thead>\n",
       "  <tbody>\n",
       "    <tr>\n",
       "      <th>X1</th>\n",
       "      <td>11.981200</td>\n",
       "      <td>0.007448</td>\n",
       "      <td>X1 and Y are independent of each other</td>\n",
       "      <td>Yes</td>\n",
       "    </tr>\n",
       "    <tr>\n",
       "      <th>X2</th>\n",
       "      <td>2.375107</td>\n",
       "      <td>0.667131</td>\n",
       "      <td>X2 and Y are independent of each other</td>\n",
       "      <td>No</td>\n",
       "    </tr>\n",
       "    <tr>\n",
       "      <th>X3</th>\n",
       "      <td>4.340259</td>\n",
       "      <td>0.361911</td>\n",
       "      <td>X3 and Y are independent of each other</td>\n",
       "      <td>No</td>\n",
       "    </tr>\n",
       "    <tr>\n",
       "      <th>X4</th>\n",
       "      <td>4.648222</td>\n",
       "      <td>0.325332</td>\n",
       "      <td>X4 and Y are independent of each other</td>\n",
       "      <td>No</td>\n",
       "    </tr>\n",
       "    <tr>\n",
       "      <th>X5</th>\n",
       "      <td>6.808039</td>\n",
       "      <td>0.146387</td>\n",
       "      <td>X5 and Y are independent of each other</td>\n",
       "      <td>No</td>\n",
       "    </tr>\n",
       "    <tr>\n",
       "      <th>X6</th>\n",
       "      <td>8.138426</td>\n",
       "      <td>0.086637</td>\n",
       "      <td>X6 and Y are independent of each other</td>\n",
       "      <td>No</td>\n",
       "    </tr>\n",
       "  </tbody>\n",
       "</table>\n",
       "</div>"
      ],
      "text/plain": [
       "                      Chi-square   P-value  \\\n",
       "Independent Variable                         \n",
       "X1                     11.981200  0.007448   \n",
       "X2                      2.375107  0.667131   \n",
       "X3                      4.340259  0.361911   \n",
       "X4                      4.648222  0.325332   \n",
       "X5                      6.808039  0.146387   \n",
       "X6                      8.138426  0.086637   \n",
       "\n",
       "                                             Null Hypothesis  \\\n",
       "Independent Variable                                           \n",
       "X1                    X1 and Y are independent of each other   \n",
       "X2                    X2 and Y are independent of each other   \n",
       "X3                    X3 and Y are independent of each other   \n",
       "X4                    X4 and Y are independent of each other   \n",
       "X5                    X5 and Y are independent of each other   \n",
       "X6                    X6 and Y are independent of each other   \n",
       "\n",
       "                     Reject Null Hypothesis at alpha=0.05?  \n",
       "Independent Variable                                        \n",
       "X1                                                     Yes  \n",
       "X2                                                      No  \n",
       "X3                                                      No  \n",
       "X4                                                      No  \n",
       "X5                                                      No  \n",
       "X6                                                      No  "
      ]
     },
     "execution_count": 228,
     "metadata": {},
     "output_type": "execute_result"
    },
    {
     "data": {
      "image/png": "[encoded data removed]",
      "text/plain": [
       "<Figure size 800x500 with 6 Axes>"
      ]
     },
     "metadata": {},
     "output_type": "display_data"
    }
   ],
   "source": [
    "# chi_independence_df = run_chi_tests(data=survey_df, target=\"Y\", significance_level=0.05,\n",
    "#                                     plot_row=2, plot_col=3, figsize=(8,5))\n",
    "# print(\"----------------------------------------------------------------------------\")\n",
    "# print(\"----------------------------------------------------------------------------\")\n",
    "# print(\"2. Chi-square test of independence\")\n",
    "# print(\"----------------------------------------------------------------------------\")\n",
    "# print(\"----------------------------------------------------------------------------\")\n",
    "# print(\"Table 1. Result of Chi-square test of independence (X1-6 and Y)\")\n",
    "# chi_independence_df.set_index(\"Independent Variable\")"
   ]
  },
  {
   "attachments": {},
   "cell_type": "markdown",
   "metadata": {},
   "source": [
    "<b>Chi-square test of goodness of fit</b><br>\n",
    "- This statistical test is often used to evaluate whether or not sample data is representative of the full population.\n",
    "- The null hypothesis was that there is no significant difference between a variable and its expected frequencies.\n",
    "- As we failed to reject the null hypothesis for all 6 dependent variables, we can consider that they are representative of the population at a significance level (or alpha) of 0.05.\n",
    "\n",
    "<b>Chi-square test of independence</b><br>\n",
    "- This statistical test is used to evaluate whether or not a difference between observed expected data is due to chance. We can consider a relationship between the variables exists when failing to reject the null hypothesis.\n",
    "- The null hypothesis was that a dependent variable X# and the target variable Y are independent of each other.\n",
    "- At a significance level of 0.05, we were able to reject the null hypothesis only for X1.\n",
    "- If we were to tolerate a higher chance of error by increasing the alpha to 0.1, we would be able to reject the null hypothesis for X6 as well, which would mean that X6 and Y are not independent of each other.\n",
    "- In summary, X2-X5 are independent of Y, meaning they would not be helpful in predicting Y. Whereas X1 would be helpful in predicting Y at a significance level of 0.05 and X6 as well, at a significance level of 0.1.\n",
    "\n",
    "<b>Relationship between target Y and each dependent variable</b><br>\n",
    "- X1 and X5 seem to be good features for training a predictive model based on the line charts above - higher X values (dependent variable) generally correspond to higher Y values (target variable). However, the chi-square test of independence failed to reject the null hypothesis of \"X5 and Y are independent of each other\" when alpha=0.05.\n",
    "- On the contrary, it appears that it would be hard to predict Y based on the other X variables as fluctuations are observed from the line charts, which were confirmed by the chi-square test of independence.\n",
    "\n",
    "<b>Summary and next step</b><br>\n",
    "- <b>X1 (my order was delivered on time) appears to be the most relevant feature to the target Y (customer satisfaction).</b>\n",
    "- However, to build a more robust model, it would be reasonable to use at least 2 features rather than discarding 5 out of 6 features, especially because the data are not complex nor big.\n",
    "- X5 and X6 could be useful in training a predictive model but it is unclear at this stage whether using either or both of them would be better.\n",
    "- <b>As such, perform the chi-square test of independence again</b>, but this time to test whether there is a relationship between X1 and the other dependent variables <b>to determine what features other than X1 can be useful in model training.</b>"
   ]
  },
  {
   "cell_type": "code",
   "execution_count": 229,
   "metadata": {},
   "outputs": [
    {
     "name": "stdout",
     "output_type": "stream",
     "text": [
      "Table 2. Result of Chi-square test of independence (X1 and X2-6)\n"
     ]
    },
    {
     "data": {
      "text/html": [
       "<div>\n",
       "<style scoped>\n",
       "    .dataframe tbody tr th:only-of-type {\n",
       "        vertical-align: middle;\n",
       "    }\n",
       "\n",
       "    .dataframe tbody tr th {\n",
       "        vertical-align: top;\n",
       "    }\n",
       "\n",
       "    .dataframe thead th {\n",
       "        text-align: right;\n",
       "    }\n",
       "</style>\n",
       "<table border=\"1\" class=\"dataframe\">\n",
       "  <thead>\n",
       "    <tr style=\"text-align: right;\">\n",
       "      <th></th>\n",
       "      <th>Chi-square</th>\n",
       "      <th>P-value</th>\n",
       "      <th>Null Hypothesis</th>\n",
       "      <th>Reject Null Hypothesis at alpha=0.05?</th>\n",
       "    </tr>\n",
       "    <tr>\n",
       "      <th>Independent Variable</th>\n",
       "      <th></th>\n",
       "      <th></th>\n",
       "      <th></th>\n",
       "      <th></th>\n",
       "    </tr>\n",
       "  </thead>\n",
       "  <tbody>\n",
       "    <tr>\n",
       "      <th>X2</th>\n",
       "      <td>9.014178</td>\n",
       "      <td>7.017190e-01</td>\n",
       "      <td>X2 and X1 are independent of each other</td>\n",
       "      <td>No</td>\n",
       "    </tr>\n",
       "    <tr>\n",
       "      <th>X3</th>\n",
       "      <td>27.601271</td>\n",
       "      <td>6.324615e-03</td>\n",
       "      <td>X3 and X1 are independent of each other</td>\n",
       "      <td>Yes</td>\n",
       "    </tr>\n",
       "    <tr>\n",
       "      <th>X4</th>\n",
       "      <td>12.799464</td>\n",
       "      <td>3.837835e-01</td>\n",
       "      <td>X4 and X1 are independent of each other</td>\n",
       "      <td>No</td>\n",
       "    </tr>\n",
       "    <tr>\n",
       "      <th>X5</th>\n",
       "      <td>42.710726</td>\n",
       "      <td>2.527299e-05</td>\n",
       "      <td>X5 and X1 are independent of each other</td>\n",
       "      <td>Yes</td>\n",
       "    </tr>\n",
       "    <tr>\n",
       "      <th>X6</th>\n",
       "      <td>58.313490</td>\n",
       "      <td>4.573138e-08</td>\n",
       "      <td>X6 and X1 are independent of each other</td>\n",
       "      <td>Yes</td>\n",
       "    </tr>\n",
       "  </tbody>\n",
       "</table>\n",
       "</div>"
      ],
      "text/plain": [
       "                      Chi-square       P-value  \\\n",
       "Independent Variable                             \n",
       "X2                      9.014178  7.017190e-01   \n",
       "X3                     27.601271  6.324615e-03   \n",
       "X4                     12.799464  3.837835e-01   \n",
       "X5                     42.710726  2.527299e-05   \n",
       "X6                     58.313490  4.573138e-08   \n",
       "\n",
       "                                              Null Hypothesis  \\\n",
       "Independent Variable                                            \n",
       "X2                    X2 and X1 are independent of each other   \n",
       "X3                    X3 and X1 are independent of each other   \n",
       "X4                    X4 and X1 are independent of each other   \n",
       "X5                    X5 and X1 are independent of each other   \n",
       "X6                    X6 and X1 are independent of each other   \n",
       "\n",
       "                     Reject Null Hypothesis at alpha=0.05?  \n",
       "Independent Variable                                        \n",
       "X2                                                      No  \n",
       "X3                                                     Yes  \n",
       "X4                                                      No  \n",
       "X5                                                     Yes  \n",
       "X6                                                     Yes  "
      ]
     },
     "execution_count": 229,
     "metadata": {},
     "output_type": "execute_result"
    }
   ],
   "source": [
    "# chi_independence_df_X1 = run_chi_tests(data=survey_df.drop([\"Y\"], axis=1), target=\"X1\", significance_level=0.05,\n",
    "#                                        plot_row=2, plot_col=3, figsize=(8,5), plot=False,\n",
    "#                                        goodness_of_fit_test=False)\n",
    "# print(\"Table 2. Result of Chi-square test of independence (X1 and X2-6)\")\n",
    "# chi_independence_df_X1.set_index(\"Independent Variable\")"
   ]
  },
  {
   "attachments": {},
   "cell_type": "markdown",
   "metadata": {},
   "source": [
    "X3, X5 and X6 were found to be not independent of X1, meaning they are related to X1.<br>\n",
    "<br>\n",
    "With that, we can now try different combinations of the features (i.e. X1, X3, X5 and X6) to see which combination would result in the best prediction accuracy score.<br>\n",
    "<br>\n",
    "Before doing so, evaludate different classifiers to choose the base model for the next steps."
   ]
  },
  {
   "attachments": {},
   "cell_type": "markdown",
   "metadata": {},
   "source": [
    "##### <b>4. Model selection</b>"
   ]
  },
  {
   "attachments": {},
   "cell_type": "markdown",
   "metadata": {},
   "source": [
    "First, split the data into train and test.<br>\n",
    "<br>\n",
    "As stated above, SMOTE (synthetic minority oversampling technique) will be used for train and test data separately, to handle the class imbalance problem of target Y.<br>\n",
    "<br>\n",
    "Train data will be used for model selection, feature engineering, and hyperparameter tuning.<br>\n",
    "Test data will only be used at the last step to evaluate the fine-tuned model.<br>"
   ]
  },
  {
   "cell_type": "code",
   "execution_count": 230,
   "metadata": {},
   "outputs": [],
   "source": [
    "X_train, X_test, y_train, y_test = split_data(\n",
    "    X=survey_df.drop([\"Y\"], axis=1),\n",
    "    y=survey_df[\"Y\"],\n",
    "    test_size=0.3,\n",
    "    random_state=random_state,\n",
    "    oversampling=True)"
   ]
  },
  {
   "cell_type": "code",
   "execution_count": 231,
   "metadata": {},
   "outputs": [],
   "source": [
    "# eval_models(X=X_train, y=y_train, n_splits=10, n=100, random_state=random_state)"
   ]
  },
  {
   "attachments": {},
   "cell_type": "markdown",
   "metadata": {},
   "source": [
    "### to be edited\n",
    "(Tried some of the most common classifiers. RandomForestClassifier sometimes outperformed XGBClassifier but XGBClassifier was so much faster and the performance was as good as RandomForestClassifier.\n",
    "(add description of XGB classifier)\n",
    "https://www.nvidia.com/en-us/glossary/data-science/xgboost/)\n",
    "\n",
    "Use this classifier as our base model for the later steps. Moving forward, try different combinations of the features (X1, X3, X5 and X6) to see which combination would result in the best prediction accuracy score."
   ]
  },
  {
   "cell_type": "code",
   "execution_count": 232,
   "metadata": {},
   "outputs": [],
   "source": [
    "# eval_feature_combinations(X=X_train, y=y_train, n_splits=10, n=100, random_state=random_state,\n",
    "#                         classifier=LogisticRegression(random_state=random_state))"
   ]
  },
  {
   "attachments": {},
   "cell_type": "markdown",
   "metadata": {},
   "source": [
    "<b>X1 and X3</b> resulted in the best mean prediction accuracy score, thus the other features will not be used from now on.<br>\n",
    "<br>\n",
    "Re-define X_train and X_test with the best features combination for the later steps.\n"
   ]
  },
  {
   "cell_type": "code",
   "execution_count": 233,
   "metadata": {},
   "outputs": [],
   "source": [
    "X_train_reduced = X_train[[\"X1\", \"X3\"]]\n",
    "X_test_reduced = X_test[[\"X1\", \"X3\"]]"
   ]
  },
  {
   "attachments": {},
   "cell_type": "markdown",
   "metadata": {},
   "source": [
    "##### <b>5. Feature augmentation</b>"
   ]
  },
  {
   "attachments": {},
   "cell_type": "markdown",
   "metadata": {},
   "source": [
    "With the three features, try different data augmentation/transformation techniques that will create new features out of the existing features to see whether they improve prediction accuracy."
   ]
  },
  {
   "cell_type": "code",
   "execution_count": 234,
   "metadata": {},
   "outputs": [],
   "source": [
    "# eval_transformers(X=X_train_reduced, y=y_train, n_splits=10, n=100, random_state=random_state,\n",
    "#                 classifier=LogisticRegression(random_state=random_state))"
   ]
  },
  {
   "attachments": {},
   "cell_type": "markdown",
   "metadata": {},
   "source": [
    "# the best was RBFSampler -> what it is and why it performs well with the data we have?\n",
    "\n",
    "As we found the mean accuracy scores improved with the transformers, use the best performing transformer for the next steps."
   ]
  },
  {
   "cell_type": "code",
   "execution_count": 235,
   "metadata": {},
   "outputs": [],
   "source": [
    "transformer=RBFSampler(random_state=random_state)\n",
    "X_train_transformed = transformer.fit_transform(X_train_reduced)\n",
    "X_test_transformed = transformer.transform(X_test_reduced)"
   ]
  },
  {
   "attachments": {},
   "cell_type": "markdown",
   "metadata": {},
   "source": [
    "##### <b>6. Dimensionality reduction</b>\n",
    "Now we have more features due to the feature augmentation process, try different dimensionality reduction techniques to see if they help improve accuracy score."
   ]
  },
  {
   "cell_type": "code",
   "execution_count": 236,
   "metadata": {},
   "outputs": [],
   "source": [
    "# eval_decomposers(X=X_train_transformed, y=y_train, n_splits=10, n=100, random_state=random_state,\n",
    "#                 classifier=LogisticRegression(random_state=random_state))"
   ]
  },
  {
   "cell_type": "code",
   "execution_count": 237,
   "metadata": {},
   "outputs": [],
   "source": [
    "decomposer = KernelPCA(random_state=random_state)\n",
    "X_train_decomposed = decomposer.fit_transform(X_train_transformed)\n",
    "X_test_decomposed = decomposer.transform(X_test_transformed)"
   ]
  },
  {
   "attachments": {},
   "cell_type": "markdown",
   "metadata": {},
   "source": [
    "Decomposers were not helpful in improving accuracy, thus will not be used in the next steps.<br>\n",
    "<br>\n",
    "Next is hyperparameter tuning for the classifier."
   ]
  },
  {
   "attachments": {},
   "cell_type": "markdown",
   "metadata": {},
   "source": [
    "##### <b>7. Hyperparameter tuning</b>"
   ]
  },
  {
   "cell_type": "code",
   "execution_count": 244,
   "metadata": {},
   "outputs": [
    {
     "name": "stdout",
     "output_type": "stream",
     "text": [
      "test_size: 0.1\n",
      "n_iter: 10, cv: 2, best_score: 0.66, test_score: 0.57\n",
      "n_iter: 10, cv: 3, best_score: 0.74, test_score: 0.57\n",
      "n_iter: 10, cv: 4, best_score: 0.69, test_score: 0.57\n",
      "n_iter: 10, cv: 5, best_score: 0.77, test_score: 0.57\n",
      "n_iter: 10, cv: 6, best_score: 0.75, test_score: 0.57\n",
      "n_iter: 10, cv: 7, best_score: 0.73, test_score: 0.57\n",
      "n_iter: 10, cv: 8, best_score: 0.73, test_score: 0.57\n",
      "n_iter: 10, cv: 9, best_score: 0.78, test_score: 0.57\n",
      "n_iter: 20, cv: 2, best_score: 0.66, test_score: 0.57\n",
      "n_iter: 20, cv: 3, best_score: 0.74, test_score: 0.57\n",
      "n_iter: 20, cv: 4, best_score: 0.69, test_score: 0.57\n",
      "n_iter: 20, cv: 5, best_score: 0.77, test_score: 0.57\n",
      "n_iter: 20, cv: 6, best_score: 0.75, test_score: 0.57\n",
      "n_iter: 20, cv: 7, best_score: 0.73, test_score: 0.57\n",
      "n_iter: 20, cv: 8, best_score: 0.73, test_score: 0.57\n",
      "n_iter: 20, cv: 9, best_score: 0.78, test_score: 0.57\n",
      "n_iter: 30, cv: 2, best_score: 0.71, test_score: 0.64\n",
      "n_iter: 30, cv: 3, best_score: 0.75, test_score: 0.64\n",
      "n_iter: 30, cv: 4, best_score: 0.71, test_score: 0.64\n",
      "n_iter: 30, cv: 5, best_score: 0.78, test_score: 0.64\n",
      "n_iter: 30, cv: 6, best_score: 0.76, test_score: 0.64\n",
      "n_iter: 30, cv: 7, best_score: 0.75, test_score: 0.64\n",
      "n_iter: 30, cv: 8, best_score: 0.74, test_score: 0.64\n",
      "n_iter: 30, cv: 9, best_score: 0.78, test_score: 0.64\n",
      "n_iter: 40, cv: 2, best_score: 0.73, test_score: 0.57\n",
      "n_iter: 40, cv: 3, best_score: 0.76, test_score: 0.57\n",
      "n_iter: 40, cv: 4, best_score: 0.72, test_score: 0.57\n",
      "n_iter: 40, cv: 5, best_score: 0.78, test_score: 0.64\n",
      "n_iter: 40, cv: 6, best_score: 0.77, test_score: 0.57\n",
      "n_iter: 40, cv: 7, best_score: 0.75, test_score: 0.57\n",
      "n_iter: 40, cv: 8, best_score: 0.75, test_score: 0.57\n",
      "n_iter: 40, cv: 9, best_score: 0.79, test_score: 0.57\n",
      "n_iter: 50, cv: 2, best_score: 0.73, test_score: 0.57\n",
      "n_iter: 50, cv: 3, best_score: 0.76, test_score: 0.57\n",
      "n_iter: 50, cv: 4, best_score: 0.72, test_score: 0.57\n",
      "n_iter: 50, cv: 5, best_score: 0.78, test_score: 0.64\n",
      "n_iter: 50, cv: 6, best_score: 0.77, test_score: 0.57\n",
      "n_iter: 50, cv: 7, best_score: 0.75, test_score: 0.57\n",
      "n_iter: 50, cv: 8, best_score: 0.75, test_score: 0.57\n"
     ]
    },
    {
     "ename": "KeyboardInterrupt",
     "evalue": "",
     "output_type": "error",
     "traceback": [
      "\u001b[1;31m---------------------------------------------------------------------------\u001b[0m",
      "\u001b[1;31mKeyboardInterrupt\u001b[0m                         Traceback (most recent call last)",
      "Cell \u001b[1;32mIn[244], line 57\u001b[0m\n\u001b[0;32m     41\u001b[0m params \u001b[39m=\u001b[39m {\n\u001b[0;32m     42\u001b[0m     \u001b[39m\"\u001b[39m\u001b[39mpenalty\u001b[39m\u001b[39m\"\u001b[39m: [\u001b[39m\"\u001b[39m\u001b[39ml1\u001b[39m\u001b[39m\"\u001b[39m, \u001b[39m\"\u001b[39m\u001b[39ml2\u001b[39m\u001b[39m\"\u001b[39m, \u001b[39m\"\u001b[39m\u001b[39melasticnet\u001b[39m\u001b[39m\"\u001b[39m, \u001b[39mNone\u001b[39;00m],\n\u001b[0;32m     43\u001b[0m     \u001b[39m\"\u001b[39m\u001b[39mtol\u001b[39m\u001b[39m\"\u001b[39m: [\u001b[39m10.0\u001b[39m \u001b[39m*\u001b[39m\u001b[39m*\u001b[39m n \u001b[39mfor\u001b[39;00m n \u001b[39min\u001b[39;00m np\u001b[39m.\u001b[39marange(\u001b[39m-\u001b[39m\u001b[39m10\u001b[39m, \u001b[39m0\u001b[39m, \u001b[39m1\u001b[39m)],\n\u001b[1;32m   (...)\u001b[0m\n\u001b[0;32m     48\u001b[0m     \u001b[39m\"\u001b[39m\u001b[39mmax_iter\u001b[39m\u001b[39m\"\u001b[39m: np\u001b[39m.\u001b[39marange(\u001b[39m10\u001b[39m, \u001b[39m200\u001b[39m, \u001b[39m10\u001b[39m),\n\u001b[0;32m     49\u001b[0m }\n\u001b[0;32m     51\u001b[0m best_search \u001b[39m=\u001b[39m RandomizedSearchCV(estimator\u001b[39m=\u001b[39mclassifier,\n\u001b[0;32m     52\u001b[0m                                 param_distributions\u001b[39m=\u001b[39mparams,\n\u001b[0;32m     53\u001b[0m                                 scoring\u001b[39m=\u001b[39m\u001b[39m\"\u001b[39m\u001b[39mroc_auc\u001b[39m\u001b[39m\"\u001b[39m,\n\u001b[0;32m     54\u001b[0m                                 n_iter\u001b[39m=\u001b[39mn_iter, \u001b[39m# n_iter=10 by default\u001b[39;00m\n\u001b[0;32m     55\u001b[0m                                 random_state\u001b[39m=\u001b[39mrandom_state,\n\u001b[0;32m     56\u001b[0m                                 cv\u001b[39m=\u001b[39mcv)\n\u001b[1;32m---> 57\u001b[0m best_search\u001b[39m.\u001b[39;49mfit(X_train_decomposed, y_train)\n\u001b[0;32m     58\u001b[0m \u001b[39m# print(best_search.best_estimator_, \"\\n\", best_search.best_score_, \"\\n\", best_search.best_params_)\u001b[39;00m\n\u001b[0;32m     60\u001b[0m score \u001b[39m=\u001b[39m accuracy_score(y_test, best_search\u001b[39m.\u001b[39mbest_estimator_\u001b[39m.\u001b[39mpredict(X_test_decomposed))\n",
      "File \u001b[1;32mc:\\Users\\Admin\\AppData\\Local\\Programs\\Python\\Python38\\lib\\site-packages\\sklearn\\model_selection\\_search.py:875\u001b[0m, in \u001b[0;36mBaseSearchCV.fit\u001b[1;34m(self, X, y, groups, **fit_params)\u001b[0m\n\u001b[0;32m    869\u001b[0m     results \u001b[39m=\u001b[39m \u001b[39mself\u001b[39m\u001b[39m.\u001b[39m_format_results(\n\u001b[0;32m    870\u001b[0m         all_candidate_params, n_splits, all_out, all_more_results\n\u001b[0;32m    871\u001b[0m     )\n\u001b[0;32m    873\u001b[0m     \u001b[39mreturn\u001b[39;00m results\n\u001b[1;32m--> 875\u001b[0m \u001b[39mself\u001b[39;49m\u001b[39m.\u001b[39;49m_run_search(evaluate_candidates)\n\u001b[0;32m    877\u001b[0m \u001b[39m# multimetric is determined here because in the case of a callable\u001b[39;00m\n\u001b[0;32m    878\u001b[0m \u001b[39m# self.scoring the return type is only known after calling\u001b[39;00m\n\u001b[0;32m    879\u001b[0m first_test_score \u001b[39m=\u001b[39m all_out[\u001b[39m0\u001b[39m][\u001b[39m\"\u001b[39m\u001b[39mtest_scores\u001b[39m\u001b[39m\"\u001b[39m]\n",
      "File \u001b[1;32mc:\\Users\\Admin\\AppData\\Local\\Programs\\Python\\Python38\\lib\\site-packages\\sklearn\\model_selection\\_search.py:1769\u001b[0m, in \u001b[0;36mRandomizedSearchCV._run_search\u001b[1;34m(self, evaluate_candidates)\u001b[0m\n\u001b[0;32m   1767\u001b[0m \u001b[39mdef\u001b[39;00m \u001b[39m_run_search\u001b[39m(\u001b[39mself\u001b[39m, evaluate_candidates):\n\u001b[0;32m   1768\u001b[0m \u001b[39m    \u001b[39m\u001b[39m\"\"\"Search n_iter candidates from param_distributions\"\"\"\u001b[39;00m\n\u001b[1;32m-> 1769\u001b[0m     evaluate_candidates(\n\u001b[0;32m   1770\u001b[0m         ParameterSampler(\n\u001b[0;32m   1771\u001b[0m             \u001b[39mself\u001b[39;49m\u001b[39m.\u001b[39;49mparam_distributions, \u001b[39mself\u001b[39;49m\u001b[39m.\u001b[39;49mn_iter, random_state\u001b[39m=\u001b[39;49m\u001b[39mself\u001b[39;49m\u001b[39m.\u001b[39;49mrandom_state\n\u001b[0;32m   1772\u001b[0m         )\n\u001b[0;32m   1773\u001b[0m     )\n",
      "File \u001b[1;32mc:\\Users\\Admin\\AppData\\Local\\Programs\\Python\\Python38\\lib\\site-packages\\sklearn\\model_selection\\_search.py:822\u001b[0m, in \u001b[0;36mBaseSearchCV.fit.<locals>.evaluate_candidates\u001b[1;34m(candidate_params, cv, more_results)\u001b[0m\n\u001b[0;32m    814\u001b[0m \u001b[39mif\u001b[39;00m \u001b[39mself\u001b[39m\u001b[39m.\u001b[39mverbose \u001b[39m>\u001b[39m \u001b[39m0\u001b[39m:\n\u001b[0;32m    815\u001b[0m     \u001b[39mprint\u001b[39m(\n\u001b[0;32m    816\u001b[0m         \u001b[39m\"\u001b[39m\u001b[39mFitting \u001b[39m\u001b[39m{0}\u001b[39;00m\u001b[39m folds for each of \u001b[39m\u001b[39m{1}\u001b[39;00m\u001b[39m candidates,\u001b[39m\u001b[39m\"\u001b[39m\n\u001b[0;32m    817\u001b[0m         \u001b[39m\"\u001b[39m\u001b[39m totalling \u001b[39m\u001b[39m{2}\u001b[39;00m\u001b[39m fits\u001b[39m\u001b[39m\"\u001b[39m\u001b[39m.\u001b[39mformat(\n\u001b[0;32m    818\u001b[0m             n_splits, n_candidates, n_candidates \u001b[39m*\u001b[39m n_splits\n\u001b[0;32m    819\u001b[0m         )\n\u001b[0;32m    820\u001b[0m     )\n\u001b[1;32m--> 822\u001b[0m out \u001b[39m=\u001b[39m parallel(\n\u001b[0;32m    823\u001b[0m     delayed(_fit_and_score)(\n\u001b[0;32m    824\u001b[0m         clone(base_estimator),\n\u001b[0;32m    825\u001b[0m         X,\n\u001b[0;32m    826\u001b[0m         y,\n\u001b[0;32m    827\u001b[0m         train\u001b[39m=\u001b[39;49mtrain,\n\u001b[0;32m    828\u001b[0m         test\u001b[39m=\u001b[39;49mtest,\n\u001b[0;32m    829\u001b[0m         parameters\u001b[39m=\u001b[39;49mparameters,\n\u001b[0;32m    830\u001b[0m         split_progress\u001b[39m=\u001b[39;49m(split_idx, n_splits),\n\u001b[0;32m    831\u001b[0m         candidate_progress\u001b[39m=\u001b[39;49m(cand_idx, n_candidates),\n\u001b[0;32m    832\u001b[0m         \u001b[39m*\u001b[39;49m\u001b[39m*\u001b[39;49mfit_and_score_kwargs,\n\u001b[0;32m    833\u001b[0m     )\n\u001b[0;32m    834\u001b[0m     \u001b[39mfor\u001b[39;49;00m (cand_idx, parameters), (split_idx, (train, test)) \u001b[39min\u001b[39;49;00m product(\n\u001b[0;32m    835\u001b[0m         \u001b[39menumerate\u001b[39;49m(candidate_params), \u001b[39menumerate\u001b[39;49m(cv\u001b[39m.\u001b[39;49msplit(X, y, groups))\n\u001b[0;32m    836\u001b[0m     )\n\u001b[0;32m    837\u001b[0m )\n\u001b[0;32m    839\u001b[0m \u001b[39mif\u001b[39;00m \u001b[39mlen\u001b[39m(out) \u001b[39m<\u001b[39m \u001b[39m1\u001b[39m:\n\u001b[0;32m    840\u001b[0m     \u001b[39mraise\u001b[39;00m \u001b[39mValueError\u001b[39;00m(\n\u001b[0;32m    841\u001b[0m         \u001b[39m\"\u001b[39m\u001b[39mNo fits were performed. \u001b[39m\u001b[39m\"\u001b[39m\n\u001b[0;32m    842\u001b[0m         \u001b[39m\"\u001b[39m\u001b[39mWas the CV iterator empty? \u001b[39m\u001b[39m\"\u001b[39m\n\u001b[0;32m    843\u001b[0m         \u001b[39m\"\u001b[39m\u001b[39mWere there no candidates?\u001b[39m\u001b[39m\"\u001b[39m\n\u001b[0;32m    844\u001b[0m     )\n",
      "File \u001b[1;32mc:\\Users\\Admin\\AppData\\Local\\Programs\\Python\\Python38\\lib\\site-packages\\joblib\\parallel.py:1088\u001b[0m, in \u001b[0;36mParallel.__call__\u001b[1;34m(self, iterable)\u001b[0m\n\u001b[0;32m   1085\u001b[0m \u001b[39mif\u001b[39;00m \u001b[39mself\u001b[39m\u001b[39m.\u001b[39mdispatch_one_batch(iterator):\n\u001b[0;32m   1086\u001b[0m     \u001b[39mself\u001b[39m\u001b[39m.\u001b[39m_iterating \u001b[39m=\u001b[39m \u001b[39mself\u001b[39m\u001b[39m.\u001b[39m_original_iterator \u001b[39mis\u001b[39;00m \u001b[39mnot\u001b[39;00m \u001b[39mNone\u001b[39;00m\n\u001b[1;32m-> 1088\u001b[0m \u001b[39mwhile\u001b[39;00m \u001b[39mself\u001b[39;49m\u001b[39m.\u001b[39;49mdispatch_one_batch(iterator):\n\u001b[0;32m   1089\u001b[0m     \u001b[39mpass\u001b[39;00m\n\u001b[0;32m   1091\u001b[0m \u001b[39mif\u001b[39;00m pre_dispatch \u001b[39m==\u001b[39m \u001b[39m\"\u001b[39m\u001b[39mall\u001b[39m\u001b[39m\"\u001b[39m \u001b[39mor\u001b[39;00m n_jobs \u001b[39m==\u001b[39m \u001b[39m1\u001b[39m:\n\u001b[0;32m   1092\u001b[0m     \u001b[39m# The iterable was consumed all at once by the above for loop.\u001b[39;00m\n\u001b[0;32m   1093\u001b[0m     \u001b[39m# No need to wait for async callbacks to trigger to\u001b[39;00m\n\u001b[0;32m   1094\u001b[0m     \u001b[39m# consumption.\u001b[39;00m\n",
      "File \u001b[1;32mc:\\Users\\Admin\\AppData\\Local\\Programs\\Python\\Python38\\lib\\site-packages\\joblib\\parallel.py:901\u001b[0m, in \u001b[0;36mParallel.dispatch_one_batch\u001b[1;34m(self, iterator)\u001b[0m\n\u001b[0;32m    899\u001b[0m     \u001b[39mreturn\u001b[39;00m \u001b[39mFalse\u001b[39;00m\n\u001b[0;32m    900\u001b[0m \u001b[39melse\u001b[39;00m:\n\u001b[1;32m--> 901\u001b[0m     \u001b[39mself\u001b[39;49m\u001b[39m.\u001b[39;49m_dispatch(tasks)\n\u001b[0;32m    902\u001b[0m     \u001b[39mreturn\u001b[39;00m \u001b[39mTrue\u001b[39;00m\n",
      "File \u001b[1;32mc:\\Users\\Admin\\AppData\\Local\\Programs\\Python\\Python38\\lib\\site-packages\\joblib\\parallel.py:819\u001b[0m, in \u001b[0;36mParallel._dispatch\u001b[1;34m(self, batch)\u001b[0m\n\u001b[0;32m    817\u001b[0m \u001b[39mwith\u001b[39;00m \u001b[39mself\u001b[39m\u001b[39m.\u001b[39m_lock:\n\u001b[0;32m    818\u001b[0m     job_idx \u001b[39m=\u001b[39m \u001b[39mlen\u001b[39m(\u001b[39mself\u001b[39m\u001b[39m.\u001b[39m_jobs)\n\u001b[1;32m--> 819\u001b[0m     job \u001b[39m=\u001b[39m \u001b[39mself\u001b[39;49m\u001b[39m.\u001b[39;49m_backend\u001b[39m.\u001b[39;49mapply_async(batch, callback\u001b[39m=\u001b[39;49mcb)\n\u001b[0;32m    820\u001b[0m     \u001b[39m# A job can complete so quickly than its callback is\u001b[39;00m\n\u001b[0;32m    821\u001b[0m     \u001b[39m# called before we get here, causing self._jobs to\u001b[39;00m\n\u001b[0;32m    822\u001b[0m     \u001b[39m# grow. To ensure correct results ordering, .insert is\u001b[39;00m\n\u001b[0;32m    823\u001b[0m     \u001b[39m# used (rather than .append) in the following line\u001b[39;00m\n\u001b[0;32m    824\u001b[0m     \u001b[39mself\u001b[39m\u001b[39m.\u001b[39m_jobs\u001b[39m.\u001b[39minsert(job_idx, job)\n",
      "File \u001b[1;32mc:\\Users\\Admin\\AppData\\Local\\Programs\\Python\\Python38\\lib\\site-packages\\joblib\\_parallel_backends.py:208\u001b[0m, in \u001b[0;36mSequentialBackend.apply_async\u001b[1;34m(self, func, callback)\u001b[0m\n\u001b[0;32m    206\u001b[0m \u001b[39mdef\u001b[39;00m \u001b[39mapply_async\u001b[39m(\u001b[39mself\u001b[39m, func, callback\u001b[39m=\u001b[39m\u001b[39mNone\u001b[39;00m):\n\u001b[0;32m    207\u001b[0m \u001b[39m    \u001b[39m\u001b[39m\"\"\"Schedule a func to be run\"\"\"\u001b[39;00m\n\u001b[1;32m--> 208\u001b[0m     result \u001b[39m=\u001b[39m ImmediateResult(func)\n\u001b[0;32m    209\u001b[0m     \u001b[39mif\u001b[39;00m callback:\n\u001b[0;32m    210\u001b[0m         callback(result)\n",
      "File \u001b[1;32mc:\\Users\\Admin\\AppData\\Local\\Programs\\Python\\Python38\\lib\\site-packages\\joblib\\_parallel_backends.py:597\u001b[0m, in \u001b[0;36mImmediateResult.__init__\u001b[1;34m(self, batch)\u001b[0m\n\u001b[0;32m    594\u001b[0m \u001b[39mdef\u001b[39;00m \u001b[39m__init__\u001b[39m(\u001b[39mself\u001b[39m, batch):\n\u001b[0;32m    595\u001b[0m     \u001b[39m# Don't delay the application, to avoid keeping the input\u001b[39;00m\n\u001b[0;32m    596\u001b[0m     \u001b[39m# arguments in memory\u001b[39;00m\n\u001b[1;32m--> 597\u001b[0m     \u001b[39mself\u001b[39m\u001b[39m.\u001b[39mresults \u001b[39m=\u001b[39m batch()\n",
      "File \u001b[1;32mc:\\Users\\Admin\\AppData\\Local\\Programs\\Python\\Python38\\lib\\site-packages\\joblib\\parallel.py:288\u001b[0m, in \u001b[0;36mBatchedCalls.__call__\u001b[1;34m(self)\u001b[0m\n\u001b[0;32m    284\u001b[0m \u001b[39mdef\u001b[39;00m \u001b[39m__call__\u001b[39m(\u001b[39mself\u001b[39m):\n\u001b[0;32m    285\u001b[0m     \u001b[39m# Set the default nested backend to self._backend but do not set the\u001b[39;00m\n\u001b[0;32m    286\u001b[0m     \u001b[39m# change the default number of processes to -1\u001b[39;00m\n\u001b[0;32m    287\u001b[0m     \u001b[39mwith\u001b[39;00m parallel_backend(\u001b[39mself\u001b[39m\u001b[39m.\u001b[39m_backend, n_jobs\u001b[39m=\u001b[39m\u001b[39mself\u001b[39m\u001b[39m.\u001b[39m_n_jobs):\n\u001b[1;32m--> 288\u001b[0m         \u001b[39mreturn\u001b[39;00m [func(\u001b[39m*\u001b[39margs, \u001b[39m*\u001b[39m\u001b[39m*\u001b[39mkwargs)\n\u001b[0;32m    289\u001b[0m                 \u001b[39mfor\u001b[39;00m func, args, kwargs \u001b[39min\u001b[39;00m \u001b[39mself\u001b[39m\u001b[39m.\u001b[39mitems]\n",
      "File \u001b[1;32mc:\\Users\\Admin\\AppData\\Local\\Programs\\Python\\Python38\\lib\\site-packages\\joblib\\parallel.py:288\u001b[0m, in \u001b[0;36m<listcomp>\u001b[1;34m(.0)\u001b[0m\n\u001b[0;32m    284\u001b[0m \u001b[39mdef\u001b[39;00m \u001b[39m__call__\u001b[39m(\u001b[39mself\u001b[39m):\n\u001b[0;32m    285\u001b[0m     \u001b[39m# Set the default nested backend to self._backend but do not set the\u001b[39;00m\n\u001b[0;32m    286\u001b[0m     \u001b[39m# change the default number of processes to -1\u001b[39;00m\n\u001b[0;32m    287\u001b[0m     \u001b[39mwith\u001b[39;00m parallel_backend(\u001b[39mself\u001b[39m\u001b[39m.\u001b[39m_backend, n_jobs\u001b[39m=\u001b[39m\u001b[39mself\u001b[39m\u001b[39m.\u001b[39m_n_jobs):\n\u001b[1;32m--> 288\u001b[0m         \u001b[39mreturn\u001b[39;00m [func(\u001b[39m*\u001b[39;49margs, \u001b[39m*\u001b[39;49m\u001b[39m*\u001b[39;49mkwargs)\n\u001b[0;32m    289\u001b[0m                 \u001b[39mfor\u001b[39;00m func, args, kwargs \u001b[39min\u001b[39;00m \u001b[39mself\u001b[39m\u001b[39m.\u001b[39mitems]\n",
      "File \u001b[1;32mc:\\Users\\Admin\\AppData\\Local\\Programs\\Python\\Python38\\lib\\site-packages\\sklearn\\utils\\fixes.py:117\u001b[0m, in \u001b[0;36m_FuncWrapper.__call__\u001b[1;34m(self, *args, **kwargs)\u001b[0m\n\u001b[0;32m    115\u001b[0m \u001b[39mdef\u001b[39;00m \u001b[39m__call__\u001b[39m(\u001b[39mself\u001b[39m, \u001b[39m*\u001b[39margs, \u001b[39m*\u001b[39m\u001b[39m*\u001b[39mkwargs):\n\u001b[0;32m    116\u001b[0m     \u001b[39mwith\u001b[39;00m config_context(\u001b[39m*\u001b[39m\u001b[39m*\u001b[39m\u001b[39mself\u001b[39m\u001b[39m.\u001b[39mconfig):\n\u001b[1;32m--> 117\u001b[0m         \u001b[39mreturn\u001b[39;00m \u001b[39mself\u001b[39;49m\u001b[39m.\u001b[39;49mfunction(\u001b[39m*\u001b[39;49margs, \u001b[39m*\u001b[39;49m\u001b[39m*\u001b[39;49mkwargs)\n",
      "File \u001b[1;32mc:\\Users\\Admin\\AppData\\Local\\Programs\\Python\\Python38\\lib\\site-packages\\sklearn\\model_selection\\_validation.py:708\u001b[0m, in \u001b[0;36m_fit_and_score\u001b[1;34m(estimator, X, y, scorer, train, test, verbose, parameters, fit_params, return_train_score, return_parameters, return_n_test_samples, return_times, return_estimator, split_progress, candidate_progress, error_score)\u001b[0m\n\u001b[0;32m    705\u001b[0m result[\u001b[39m\"\u001b[39m\u001b[39mfit_error\u001b[39m\u001b[39m\"\u001b[39m] \u001b[39m=\u001b[39m \u001b[39mNone\u001b[39;00m\n\u001b[0;32m    707\u001b[0m fit_time \u001b[39m=\u001b[39m time\u001b[39m.\u001b[39mtime() \u001b[39m-\u001b[39m start_time\n\u001b[1;32m--> 708\u001b[0m test_scores \u001b[39m=\u001b[39m _score(estimator, X_test, y_test, scorer, error_score)\n\u001b[0;32m    709\u001b[0m score_time \u001b[39m=\u001b[39m time\u001b[39m.\u001b[39mtime() \u001b[39m-\u001b[39m start_time \u001b[39m-\u001b[39m fit_time\n\u001b[0;32m    710\u001b[0m \u001b[39mif\u001b[39;00m return_train_score:\n",
      "File \u001b[1;32mc:\\Users\\Admin\\AppData\\Local\\Programs\\Python\\Python38\\lib\\site-packages\\sklearn\\model_selection\\_validation.py:767\u001b[0m, in \u001b[0;36m_score\u001b[1;34m(estimator, X_test, y_test, scorer, error_score)\u001b[0m\n\u001b[0;32m    765\u001b[0m         scores \u001b[39m=\u001b[39m scorer(estimator, X_test)\n\u001b[0;32m    766\u001b[0m     \u001b[39melse\u001b[39;00m:\n\u001b[1;32m--> 767\u001b[0m         scores \u001b[39m=\u001b[39m scorer(estimator, X_test, y_test)\n\u001b[0;32m    768\u001b[0m \u001b[39mexcept\u001b[39;00m \u001b[39mException\u001b[39;00m:\n\u001b[0;32m    769\u001b[0m     \u001b[39mif\u001b[39;00m error_score \u001b[39m==\u001b[39m \u001b[39m\"\u001b[39m\u001b[39mraise\u001b[39m\u001b[39m\"\u001b[39m:\n",
      "File \u001b[1;32mc:\\Users\\Admin\\AppData\\Local\\Programs\\Python\\Python38\\lib\\site-packages\\sklearn\\metrics\\_scorer.py:220\u001b[0m, in \u001b[0;36m_BaseScorer.__call__\u001b[1;34m(self, estimator, X, y_true, sample_weight)\u001b[0m\n\u001b[0;32m    197\u001b[0m \u001b[39mdef\u001b[39;00m \u001b[39m__call__\u001b[39m(\u001b[39mself\u001b[39m, estimator, X, y_true, sample_weight\u001b[39m=\u001b[39m\u001b[39mNone\u001b[39;00m):\n\u001b[0;32m    198\u001b[0m \u001b[39m    \u001b[39m\u001b[39m\"\"\"Evaluate predicted target values for X relative to y_true.\u001b[39;00m\n\u001b[0;32m    199\u001b[0m \n\u001b[0;32m    200\u001b[0m \u001b[39m    Parameters\u001b[39;00m\n\u001b[1;32m   (...)\u001b[0m\n\u001b[0;32m    218\u001b[0m \u001b[39m        Score function applied to prediction of estimator on X.\u001b[39;00m\n\u001b[0;32m    219\u001b[0m \u001b[39m    \"\"\"\u001b[39;00m\n\u001b[1;32m--> 220\u001b[0m     \u001b[39mreturn\u001b[39;00m \u001b[39mself\u001b[39;49m\u001b[39m.\u001b[39;49m_score(\n\u001b[0;32m    221\u001b[0m         partial(_cached_call, \u001b[39mNone\u001b[39;49;00m),\n\u001b[0;32m    222\u001b[0m         estimator,\n\u001b[0;32m    223\u001b[0m         X,\n\u001b[0;32m    224\u001b[0m         y_true,\n\u001b[0;32m    225\u001b[0m         sample_weight\u001b[39m=\u001b[39;49msample_weight,\n\u001b[0;32m    226\u001b[0m     )\n",
      "File \u001b[1;32mc:\\Users\\Admin\\AppData\\Local\\Programs\\Python\\Python38\\lib\\site-packages\\sklearn\\metrics\\_scorer.py:385\u001b[0m, in \u001b[0;36m_ThresholdScorer._score\u001b[1;34m(self, method_caller, clf, X, y, sample_weight)\u001b[0m\n\u001b[0;32m    381\u001b[0m     \u001b[39mreturn\u001b[39;00m \u001b[39mself\u001b[39m\u001b[39m.\u001b[39m_sign \u001b[39m*\u001b[39m \u001b[39mself\u001b[39m\u001b[39m.\u001b[39m_score_func(\n\u001b[0;32m    382\u001b[0m         y, y_pred, sample_weight\u001b[39m=\u001b[39msample_weight, \u001b[39m*\u001b[39m\u001b[39m*\u001b[39m\u001b[39mself\u001b[39m\u001b[39m.\u001b[39m_kwargs\n\u001b[0;32m    383\u001b[0m     )\n\u001b[0;32m    384\u001b[0m \u001b[39melse\u001b[39;00m:\n\u001b[1;32m--> 385\u001b[0m     \u001b[39mreturn\u001b[39;00m \u001b[39mself\u001b[39m\u001b[39m.\u001b[39m_sign \u001b[39m*\u001b[39m \u001b[39mself\u001b[39;49m\u001b[39m.\u001b[39;49m_score_func(y, y_pred, \u001b[39m*\u001b[39;49m\u001b[39m*\u001b[39;49m\u001b[39mself\u001b[39;49m\u001b[39m.\u001b[39;49m_kwargs)\n",
      "File \u001b[1;32mc:\\Users\\Admin\\AppData\\Local\\Programs\\Python\\Python38\\lib\\site-packages\\sklearn\\metrics\\_ranking.py:549\u001b[0m, in \u001b[0;36mroc_auc_score\u001b[1;34m(y_true, y_score, average, sample_weight, max_fpr, multi_class, labels)\u001b[0m\n\u001b[0;32m    365\u001b[0m \u001b[39mdef\u001b[39;00m \u001b[39mroc_auc_score\u001b[39m(\n\u001b[0;32m    366\u001b[0m     y_true,\n\u001b[0;32m    367\u001b[0m     y_score,\n\u001b[1;32m   (...)\u001b[0m\n\u001b[0;32m    373\u001b[0m     labels\u001b[39m=\u001b[39m\u001b[39mNone\u001b[39;00m,\n\u001b[0;32m    374\u001b[0m ):\n\u001b[0;32m    375\u001b[0m \u001b[39m    \u001b[39m\u001b[39m\"\"\"Compute Area Under the Receiver Operating Characteristic Curve (ROC AUC) \\\u001b[39;00m\n\u001b[0;32m    376\u001b[0m \u001b[39m    from prediction scores.\u001b[39;00m\n\u001b[0;32m    377\u001b[0m \n\u001b[1;32m   (...)\u001b[0m\n\u001b[0;32m    546\u001b[0m \u001b[39m    array([0.81..., 0.84... , 0.93..., 0.87..., 0.94...])\u001b[39;00m\n\u001b[0;32m    547\u001b[0m \u001b[39m    \"\"\"\u001b[39;00m\n\u001b[1;32m--> 549\u001b[0m     y_type \u001b[39m=\u001b[39m type_of_target(y_true, input_name\u001b[39m=\u001b[39;49m\u001b[39m\"\u001b[39;49m\u001b[39my_true\u001b[39;49m\u001b[39m\"\u001b[39;49m)\n\u001b[0;32m    550\u001b[0m     y_true \u001b[39m=\u001b[39m check_array(y_true, ensure_2d\u001b[39m=\u001b[39m\u001b[39mFalse\u001b[39;00m, dtype\u001b[39m=\u001b[39m\u001b[39mNone\u001b[39;00m)\n\u001b[0;32m    551\u001b[0m     y_score \u001b[39m=\u001b[39m check_array(y_score, ensure_2d\u001b[39m=\u001b[39m\u001b[39mFalse\u001b[39;00m)\n",
      "File \u001b[1;32mc:\\Users\\Admin\\AppData\\Local\\Programs\\Python\\Python38\\lib\\site-packages\\sklearn\\utils\\multiclass.py:309\u001b[0m, in \u001b[0;36mtype_of_target\u001b[1;34m(y, input_name)\u001b[0m\n\u001b[0;32m    307\u001b[0m \u001b[39mif\u001b[39;00m \u001b[39mnot\u001b[39;00m issparse(y):\n\u001b[0;32m    308\u001b[0m     \u001b[39mtry\u001b[39;00m:\n\u001b[1;32m--> 309\u001b[0m         y \u001b[39m=\u001b[39m xp\u001b[39m.\u001b[39;49masarray(y)\n\u001b[0;32m    310\u001b[0m     \u001b[39mexcept\u001b[39;00m (np\u001b[39m.\u001b[39mVisibleDeprecationWarning, \u001b[39mValueError\u001b[39;00m):\n\u001b[0;32m    311\u001b[0m         \u001b[39m# dtype=object should be provided explicitly for ragged arrays,\u001b[39;00m\n\u001b[0;32m    312\u001b[0m         \u001b[39m# see NEP 34\u001b[39;00m\n\u001b[0;32m    313\u001b[0m         y \u001b[39m=\u001b[39m xp\u001b[39m.\u001b[39masarray(y, dtype\u001b[39m=\u001b[39m\u001b[39mobject\u001b[39m)\n",
      "File \u001b[1;32mc:\\Users\\Admin\\AppData\\Local\\Programs\\Python\\Python38\\lib\\site-packages\\sklearn\\utils\\_array_api.py:75\u001b[0m, in \u001b[0;36m_NumPyApiWrapper.asarray\u001b[1;34m(self, x, dtype, device, copy)\u001b[0m\n\u001b[0;32m     73\u001b[0m     \u001b[39mreturn\u001b[39;00m numpy\u001b[39m.\u001b[39marray(x, copy\u001b[39m=\u001b[39m\u001b[39mTrue\u001b[39;00m, dtype\u001b[39m=\u001b[39mdtype)\n\u001b[0;32m     74\u001b[0m \u001b[39melse\u001b[39;00m:\n\u001b[1;32m---> 75\u001b[0m     \u001b[39mreturn\u001b[39;00m numpy\u001b[39m.\u001b[39;49masarray(x, dtype\u001b[39m=\u001b[39;49mdtype)\n",
      "File \u001b[1;32mc:\\Users\\Admin\\AppData\\Local\\Programs\\Python\\Python38\\lib\\site-packages\\numpy\\core\\_asarray.py:102\u001b[0m, in \u001b[0;36masarray\u001b[1;34m(a, dtype, order, like)\u001b[0m\n\u001b[0;32m     99\u001b[0m \u001b[39mif\u001b[39;00m like \u001b[39mis\u001b[39;00m \u001b[39mnot\u001b[39;00m \u001b[39mNone\u001b[39;00m:\n\u001b[0;32m    100\u001b[0m     \u001b[39mreturn\u001b[39;00m _asarray_with_like(a, dtype\u001b[39m=\u001b[39mdtype, order\u001b[39m=\u001b[39morder, like\u001b[39m=\u001b[39mlike)\n\u001b[1;32m--> 102\u001b[0m \u001b[39mreturn\u001b[39;00m array(a, dtype, copy\u001b[39m=\u001b[39;49m\u001b[39mFalse\u001b[39;49;00m, order\u001b[39m=\u001b[39;49morder)\n",
      "File \u001b[1;32mc:\\Users\\Admin\\AppData\\Local\\Programs\\Python\\Python38\\lib\\site-packages\\pandas\\core\\series.py:893\u001b[0m, in \u001b[0;36mSeries.__array__\u001b[1;34m(self, dtype)\u001b[0m\n\u001b[0;32m    846\u001b[0m \u001b[39mdef\u001b[39;00m \u001b[39m__array__\u001b[39m(\u001b[39mself\u001b[39m, dtype: npt\u001b[39m.\u001b[39mDTypeLike \u001b[39m|\u001b[39m \u001b[39mNone\u001b[39;00m \u001b[39m=\u001b[39m \u001b[39mNone\u001b[39;00m) \u001b[39m-\u001b[39m\u001b[39m>\u001b[39m np\u001b[39m.\u001b[39mndarray:\n\u001b[0;32m    847\u001b[0m \u001b[39m    \u001b[39m\u001b[39m\"\"\"\u001b[39;00m\n\u001b[0;32m    848\u001b[0m \u001b[39m    Return the values as a NumPy array.\u001b[39;00m\n\u001b[0;32m    849\u001b[0m \n\u001b[1;32m   (...)\u001b[0m\n\u001b[0;32m    891\u001b[0m \u001b[39m          dtype='datetime64[ns]')\u001b[39;00m\n\u001b[0;32m    892\u001b[0m \u001b[39m    \"\"\"\u001b[39;00m\n\u001b[1;32m--> 893\u001b[0m     \u001b[39mreturn\u001b[39;00m np\u001b[39m.\u001b[39;49masarray(\u001b[39mself\u001b[39;49m\u001b[39m.\u001b[39;49m_values, dtype)\n",
      "File \u001b[1;32mc:\\Users\\Admin\\AppData\\Local\\Programs\\Python\\Python38\\lib\\site-packages\\numpy\\core\\_asarray.py:102\u001b[0m, in \u001b[0;36masarray\u001b[1;34m(a, dtype, order, like)\u001b[0m\n\u001b[0;32m     99\u001b[0m \u001b[39mif\u001b[39;00m like \u001b[39mis\u001b[39;00m \u001b[39mnot\u001b[39;00m \u001b[39mNone\u001b[39;00m:\n\u001b[0;32m    100\u001b[0m     \u001b[39mreturn\u001b[39;00m _asarray_with_like(a, dtype\u001b[39m=\u001b[39mdtype, order\u001b[39m=\u001b[39morder, like\u001b[39m=\u001b[39mlike)\n\u001b[1;32m--> 102\u001b[0m \u001b[39mreturn\u001b[39;00m array(a, dtype, copy\u001b[39m=\u001b[39;49m\u001b[39mFalse\u001b[39;49;00m, order\u001b[39m=\u001b[39;49morder)\n",
      "File \u001b[1;32mc:\\Users\\Admin\\AppData\\Local\\Programs\\Python\\Python38\\lib\\site-packages\\pandas\\core\\arrays\\_mixins.py:85\u001b[0m, in \u001b[0;36mravel_compat.<locals>.method\u001b[1;34m(self, *args, **kwargs)\u001b[0m\n\u001b[0;32m     82\u001b[0m \u001b[39m@wraps\u001b[39m(meth)\n\u001b[0;32m     83\u001b[0m \u001b[39mdef\u001b[39;00m \u001b[39mmethod\u001b[39m(\u001b[39mself\u001b[39m, \u001b[39m*\u001b[39margs, \u001b[39m*\u001b[39m\u001b[39m*\u001b[39mkwargs):\n\u001b[0;32m     84\u001b[0m     \u001b[39mif\u001b[39;00m \u001b[39mself\u001b[39m\u001b[39m.\u001b[39mndim \u001b[39m==\u001b[39m \u001b[39m1\u001b[39m:\n\u001b[1;32m---> 85\u001b[0m         \u001b[39mreturn\u001b[39;00m meth(\u001b[39mself\u001b[39;49m, \u001b[39m*\u001b[39;49margs, \u001b[39m*\u001b[39;49m\u001b[39m*\u001b[39;49mkwargs)\n\u001b[0;32m     87\u001b[0m     flags \u001b[39m=\u001b[39m \u001b[39mself\u001b[39m\u001b[39m.\u001b[39m_ndarray\u001b[39m.\u001b[39mflags\n\u001b[0;32m     88\u001b[0m     flat \u001b[39m=\u001b[39m \u001b[39mself\u001b[39m\u001b[39m.\u001b[39mravel(\u001b[39m\"\u001b[39m\u001b[39mK\u001b[39m\u001b[39m\"\u001b[39m)\n",
      "File \u001b[1;32mc:\\Users\\Admin\\AppData\\Local\\Programs\\Python\\Python38\\lib\\site-packages\\pandas\\core\\arrays\\categorical.py:1607\u001b[0m, in \u001b[0;36mCategorical.__array__\u001b[1;34m(self, dtype)\u001b[0m\n\u001b[0;32m   1595\u001b[0m \u001b[39m@ravel_compat\u001b[39m\n\u001b[0;32m   1596\u001b[0m \u001b[39mdef\u001b[39;00m \u001b[39m__array__\u001b[39m(\u001b[39mself\u001b[39m, dtype: NpDtype \u001b[39m|\u001b[39m \u001b[39mNone\u001b[39;00m \u001b[39m=\u001b[39m \u001b[39mNone\u001b[39;00m) \u001b[39m-\u001b[39m\u001b[39m>\u001b[39m np\u001b[39m.\u001b[39mndarray:\n\u001b[0;32m   1597\u001b[0m \u001b[39m    \u001b[39m\u001b[39m\"\"\"\u001b[39;00m\n\u001b[0;32m   1598\u001b[0m \u001b[39m    The numpy array interface.\u001b[39;00m\n\u001b[0;32m   1599\u001b[0m \n\u001b[1;32m   (...)\u001b[0m\n\u001b[0;32m   1605\u001b[0m \u001b[39m        categorical.categories.dtype.\u001b[39;00m\n\u001b[0;32m   1606\u001b[0m \u001b[39m    \"\"\"\u001b[39;00m\n\u001b[1;32m-> 1607\u001b[0m     ret \u001b[39m=\u001b[39m take_nd(\u001b[39mself\u001b[39;49m\u001b[39m.\u001b[39;49mcategories\u001b[39m.\u001b[39;49m_values, \u001b[39mself\u001b[39;49m\u001b[39m.\u001b[39;49m_codes)\n\u001b[0;32m   1608\u001b[0m     \u001b[39mif\u001b[39;00m dtype \u001b[39mand\u001b[39;00m \u001b[39mnot\u001b[39;00m is_dtype_equal(dtype, \u001b[39mself\u001b[39m\u001b[39m.\u001b[39mcategories\u001b[39m.\u001b[39mdtype):\n\u001b[0;32m   1609\u001b[0m         \u001b[39mreturn\u001b[39;00m np\u001b[39m.\u001b[39masarray(ret, dtype)\n",
      "File \u001b[1;32mc:\\Users\\Admin\\AppData\\Local\\Programs\\Python\\Python38\\lib\\site-packages\\pandas\\core\\array_algos\\take.py:117\u001b[0m, in \u001b[0;36mtake_nd\u001b[1;34m(arr, indexer, axis, fill_value, allow_fill)\u001b[0m\n\u001b[0;32m    114\u001b[0m     \u001b[39mreturn\u001b[39;00m arr\u001b[39m.\u001b[39mtake(indexer, fill_value\u001b[39m=\u001b[39mfill_value, allow_fill\u001b[39m=\u001b[39mallow_fill)\n\u001b[0;32m    116\u001b[0m arr \u001b[39m=\u001b[39m np\u001b[39m.\u001b[39masarray(arr)\n\u001b[1;32m--> 117\u001b[0m \u001b[39mreturn\u001b[39;00m _take_nd_ndarray(arr, indexer, axis, fill_value, allow_fill)\n",
      "File \u001b[1;32mc:\\Users\\Admin\\AppData\\Local\\Programs\\Python\\Python38\\lib\\site-packages\\pandas\\core\\array_algos\\take.py:132\u001b[0m, in \u001b[0;36m_take_nd_ndarray\u001b[1;34m(arr, indexer, axis, fill_value, allow_fill)\u001b[0m\n\u001b[0;32m    130\u001b[0m     dtype, fill_value \u001b[39m=\u001b[39m arr\u001b[39m.\u001b[39mdtype, arr\u001b[39m.\u001b[39mdtype\u001b[39m.\u001b[39mtype()\n\u001b[0;32m    131\u001b[0m \u001b[39melse\u001b[39;00m:\n\u001b[1;32m--> 132\u001b[0m     indexer \u001b[39m=\u001b[39m ensure_platform_int(indexer)\n\u001b[0;32m    134\u001b[0m dtype, fill_value, mask_info \u001b[39m=\u001b[39m _take_preprocess_indexer_and_fill_value(\n\u001b[0;32m    135\u001b[0m     arr, indexer, fill_value, allow_fill\n\u001b[0;32m    136\u001b[0m )\n\u001b[0;32m    138\u001b[0m flip_order \u001b[39m=\u001b[39m \u001b[39mFalse\u001b[39;00m\n",
      "\u001b[1;31mKeyboardInterrupt\u001b[0m: "
     ]
    }
   ],
   "source": [
    "# n_iter=100\n",
    "# cv = 2\n",
    "# classifier = RandomForestClassifier(random_state=random_state)\n",
    "# params = {\n",
    "#     \"n_estimators\": np.arange(10, 200, 10),\n",
    "#     \"criterion\": [\"gini\", \"entropy\", \"log_loss\"],\n",
    "#     \"max_depth\": [1, 2, 3],\n",
    "#     \"min_samples_split\": [2, 3, 4, 5],\n",
    "#     \"min_samples_leaf\": [1, 2, 3],\n",
    "#     \"max_features\": [\"sqrt\", \"log2\", None],\n",
    "#     \"class_weight\": [\"balanced\", \"balanced_subsample\", None]\n",
    "# }\n",
    "\n",
    "# n_iter=10\n",
    "# cv = 10\n",
    "for test_size in [0.1, 0.15, 0.2, 0.25, 0.3, 0.35, 0.4]:\n",
    "    print(f\"test_size: {test_size}\")\n",
    "    X_train, X_test, y_train, y_test = split_data(\n",
    "        X=survey_df.drop([\"Y\"], axis=1),\n",
    "        y=survey_df[\"Y\"],\n",
    "        test_size=test_size,\n",
    "        random_state=random_state,\n",
    "        oversampling=True)\n",
    "\n",
    "    X_train_reduced = X_train[[\"X1\", \"X3\"]]\n",
    "    X_test_reduced = X_test[[\"X1\", \"X3\"]]\n",
    "\n",
    "    transformer=RBFSampler(random_state=random_state)\n",
    "    X_train_transformed = transformer.fit_transform(X_train_reduced)\n",
    "    X_test_transformed = transformer.transform(X_test_reduced)\n",
    "\n",
    "    decomposer = KernelPCA(random_state=random_state)\n",
    "    X_train_decomposed = decomposer.fit_transform(X_train_transformed)\n",
    "    X_test_decomposed = decomposer.transform(X_test_transformed)\n",
    "\n",
    "    for n_iter in np.arange(10, 100, 10):\n",
    "        # print(f\"n_iter: {n_iter}\")\n",
    "        for cv in np.arange(2, 10, 1):\n",
    "            # print(f\"cv: {cv}\")\n",
    "            classifier = LogisticRegression(random_state=random_state)\n",
    "            params = {\n",
    "                \"penalty\": [\"l1\", \"l2\", \"elasticnet\", None],\n",
    "                \"tol\": [10.0 ** n for n in np.arange(-10, 0, 1)],\n",
    "                \"C\": [10.0 ** n for n in np.arange(-10, 0, 1)],\n",
    "                \"fit_intercept\": [True, False],\n",
    "                \"class_weight\": [\"balanced\", None],\n",
    "                \"solver\": ['lbfgs', 'liblinear', 'newton-cg', 'newton-cholesky', 'sag', 'saga'],\n",
    "                \"max_iter\": np.arange(10, 200, 10),\n",
    "            }\n",
    "\n",
    "            best_search = RandomizedSearchCV(estimator=classifier,\n",
    "                                            param_distributions=params,\n",
    "                                            scoring=\"roc_auc\",\n",
    "                                            n_iter=n_iter, # n_iter=10 by default\n",
    "                                            random_state=random_state,\n",
    "                                            cv=cv)\n",
    "            best_search.fit(X_train_decomposed, y_train)\n",
    "            # print(best_search.best_estimator_, \"\\n\", best_search.best_score_, \"\\n\", best_search.best_params_)\n",
    "\n",
    "            score = accuracy_score(y_test, best_search.best_estimator_.predict(X_test_decomposed))\n",
    "            print(f\"n_iter: {n_iter}, cv: {cv}, best_score: {round(best_search.best_score_, 2)}, test_score: {round(score, 2)}\")\n",
    "            if score >= 0.70:\n",
    "                print(f\"Test score is higher than 0.70!: {score}\\n\")\n",
    "    # print(score, \"\\n\")"
   ]
  },
  {
   "attachments": {},
   "cell_type": "markdown",
   "metadata": {},
   "source": [
    "##### <b>8. Evaluate the tuned model using test data</b>"
   ]
  },
  {
   "cell_type": "code",
   "execution_count": null,
   "metadata": {},
   "outputs": [
    {
     "ename": "TypeError",
     "evalue": "__init__() got an unexpected keyword argument 'tol'",
     "output_type": "error",
     "traceback": [
      "\u001b[1;31m---------------------------------------------------------------------------\u001b[0m",
      "\u001b[1;31mTypeError\u001b[0m                                 Traceback (most recent call last)",
      "Cell \u001b[1;32mIn[214], line 3\u001b[0m\n\u001b[0;32m      1\u001b[0m score_dict \u001b[39m=\u001b[39m {}\n\u001b[0;32m      2\u001b[0m \u001b[39mfor\u001b[39;00m random_state \u001b[39min\u001b[39;00m \u001b[39mrange\u001b[39m(\u001b[39m100\u001b[39m):\n\u001b[1;32m----> 3\u001b[0m     classifier \u001b[39m=\u001b[39m RandomForestClassifier(random_state\u001b[39m=\u001b[39;49mrandom_state, \u001b[39m*\u001b[39;49m\u001b[39m*\u001b[39;49mbest_search\u001b[39m.\u001b[39;49mbest_params_)\n\u001b[0;32m      4\u001b[0m     transformer \u001b[39m=\u001b[39m RBFSampler(random_state\u001b[39m=\u001b[39mrandom_state)\n\u001b[0;32m      5\u001b[0m     decomposer \u001b[39m=\u001b[39m KernelPCA(random_state\u001b[39m=\u001b[39mrandom_state)\n",
      "\u001b[1;31mTypeError\u001b[0m: __init__() got an unexpected keyword argument 'tol'"
     ]
    }
   ],
   "source": [
    "# score_dict = {}\n",
    "# for random_state in range(100):\n",
    "#     classifier = RandomForestClassifier(random_state=random_state, **best_search.best_params_)\n",
    "#     transformer = RBFSampler(random_state=random_state)\n",
    "#     decomposer = KernelPCA(random_state=random_state)\n",
    "#     clf = make_pipeline(transformer, decomposer, classifier)\n",
    "#     clf.fit(X_train_reduced, y_train)\n",
    "#     score = accuracy_score(y_test, clf.predict(X_test_reduced))\n",
    "#     score_dict[random_state] = score\n",
    "\n",
    "# score_dict_sorted = dict(sorted(score_dict.items(), key=lambda x: x[1], reverse=True))\n",
    "# print(score_dict_sorted[1])\n",
    "# score_dict_sorted"
   ]
  },
  {
   "attachments": {},
   "cell_type": "markdown",
   "metadata": {},
   "source": [
    "##### <b>9. Save the best performing model for future use</b>"
   ]
  },
  {
   "cell_type": "code",
   "execution_count": null,
   "metadata": {},
   "outputs": [],
   "source": []
  },
  {
   "attachments": {},
   "cell_type": "markdown",
   "metadata": {},
   "source": [
    "##### <b>10. Conclusion</b>"
   ]
  },
  {
   "attachments": {},
   "cell_type": "markdown",
   "metadata": {},
   "source": [
    "learning points, insights, future work, etc.\n",
    "\n",
    "\n",
    "- changed n_splits from 5 to 2 since the data set is so small that the accuracy prediction could not be good when the split was too granular."
   ]
  }
 ],
 "metadata": {
  "kernelspec": {
   "display_name": "Python 3",
   "language": "python",
   "name": "python3"
  },
  "language_info": {
   "codemirror_mode": {
    "name": "ipython",
    "version": 3
   },
   "file_extension": ".py",
   "mimetype": "text/x-python",
   "name": "python",
   "nbconvert_exporter": "python",
   "pygments_lexer": "ipython3",
   "version": "3.8.10"
  },
  "orig_nbformat": 4,
  "vscode": {
   "interpreter": {
    "hash": "a4868653bb6f8972e87e4c446ab8a445a15b25dedb8594cc74c480f8152ea86a"
   }
  }
 },
 "nbformat": 4,
 "nbformat_minor": 2
}
