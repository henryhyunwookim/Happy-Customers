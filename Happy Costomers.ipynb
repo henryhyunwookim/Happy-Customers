{
 "cells": [
  {
   "attachments": {},
   "cell_type": "markdown",
   "metadata": {},
   "source": [
    "##### <b>1. Load custom functions</b>"
   ]
  },
  {
   "cell_type": "code",
   "execution_count": 14,
   "metadata": {},
   "outputs": [],
   "source": [
    "from functions import *\n",
    "random_state = 1"
   ]
  },
  {
   "attachments": {},
   "cell_type": "markdown",
   "metadata": {},
   "source": [
    "##### <b>2. Load data and perform EDA (Exploratory Data Analysis)</b>"
   ]
  },
  {
   "cell_type": "code",
   "execution_count": 15,
   "metadata": {},
   "outputs": [],
   "source": [
    "survey_df = load_data(folder_name=\"data\", file_name=\"ACME-HappinessSurvey2020.csv\")\n",
    "# print(survey_df.head(), \"\\n\")\n",
    "# print(survey_df.info(), \"\\n\")\n",
    "# survey_df.describe()"
   ]
  },
  {
   "attachments": {},
   "cell_type": "markdown",
   "metadata": {},
   "source": [
    "The data set is simple - only 126 rows and 6 columns, all integer data type with a range between 0 and 5.<br>\n",
    "<br>\n",
    "Since the target variable Y is a categorical variable (0 - unhappy, 1 - happy), convert it accordingly in the data frame.\n"
   ]
  },
  {
   "cell_type": "code",
   "execution_count": 16,
   "metadata": {},
   "outputs": [],
   "source": [
    "survey_df[\"Y\"] = survey_df[\"Y\"].astype('category').cat.set_categories([0, 1], ordered=True)"
   ]
  },
  {
   "attachments": {},
   "cell_type": "markdown",
   "metadata": {},
   "source": [
    "Plot histograms to understand the distribution of each column."
   ]
  },
  {
   "cell_type": "code",
   "execution_count": 17,
   "metadata": {},
   "outputs": [],
   "source": [
    "# plot_histograms(data=survey_df,\n",
    "#                 target=\"Y\", target_figsize=(2,2),\n",
    "#                 dependent_layout=(2,3), dependent_figsize=(8,6))"
   ]
  },
  {
   "attachments": {},
   "cell_type": "markdown",
   "metadata": {},
   "source": [
    "For the target variable Y, the distribution is slightly uneven, with more happy customers in the survey data.<br>\n",
    "<b>To deal with this class imbalance problem, SMOTE (synthetic minority oversampling technique) will be used in the next stages.</b><br>\n",
    "<br>\n",
    "The distribution of each dependent variable is also not uniform. However, it would not matter too much as long as the variables/features can provide predictive power.<br>\n",
    "To better understand these features, perform Chi-square tests."
   ]
  },
  {
   "attachments": {},
   "cell_type": "markdown",
   "metadata": {},
   "source": [
    "##### <b>3. Feature selection</b>"
   ]
  },
  {
   "cell_type": "code",
   "execution_count": 18,
   "metadata": {},
   "outputs": [],
   "source": [
    "# chi_independence_df = run_chi_tests(data=survey_df, target=\"Y\", significance_level=0.05,\n",
    "#                                     plot_row=2, plot_col=3, figsize=(8,5))\n",
    "# print(\"----------------------------------------------------------------------------\")\n",
    "# print(\"----------------------------------------------------------------------------\")\n",
    "# print(\"2. Chi-square test of independence\")\n",
    "# print(\"----------------------------------------------------------------------------\")\n",
    "# print(\"----------------------------------------------------------------------------\")\n",
    "# print(\"Table 1. Result of Chi-square test of independence (X1-6 and Y)\")\n",
    "# chi_independence_df.set_index(\"Independent Variable\")"
   ]
  },
  {
   "attachments": {},
   "cell_type": "markdown",
   "metadata": {},
   "source": [
    "<b>Chi-square test of goodness of fit</b><br>\n",
    "- This statistical test is often used to evaluate whether or not sample data is representative of the full population.\n",
    "- The null hypothesis was that there is no significant difference between a variable and its expected frequencies.\n",
    "- As we failed to reject the null hypothesis for all 6 dependent variables, we can consider that they are representative of the population at a significance level (or alpha) of 0.05.\n",
    "\n",
    "<b>Chi-square test of independence</b><br>\n",
    "- This statistical test is used to evaluate whether or not a difference between observed expected data is due to chance. We can consider a relationship between the variables exists when failing to reject the null hypothesis.\n",
    "- The null hypothesis was that a dependent variable X# and the target variable Y are independent of each other.\n",
    "- At a significance level of 0.05, we were able to reject the null hypothesis only for X1.\n",
    "- If we were to tolerate a higher chance of error by increasing the alpha to 0.1, we would be able to reject the null hypothesis for X6 as well, which would mean that X6 and Y are not independent of each other.\n",
    "- In summary, X2-X5 are independent of Y, meaning they would not be helpful in predicting Y. Whereas X1 would be helpful in predicting Y at a significance level of 0.05 and X6 as well, at a significance level of 0.1.\n",
    "\n",
    "<b>Relationship between target Y and each dependent variable</b><br>\n",
    "- X1 and X5 seem to be good features for training a predictive model based on the line charts above - higher X values (dependent variable) generally correspond to higher Y values (target variable). However, the chi-square test of independence failed to reject the null hypothesis of \"X5 and Y are independent of each other\" when alpha=0.05.\n",
    "- On the contrary, it appears that it would be hard to predict Y based on the other X variables as fluctuations are observed from the line charts, which were confirmed by the chi-square test of independence.\n",
    "\n",
    "<b>Summary and next step</b><br>\n",
    "- <b>X1 (my order was delivered on time) appears to be the most relevant feature to the target Y (customer satisfaction).</b>\n",
    "- However, to build a more robust model, it would be reasonable to use at least 2 features rather than discarding 5 out of 6 features, especially because the data are not complex nor big.\n",
    "- X5 and X6 could be useful in training a predictive model but it is unclear at this stage whether using either or both of them would be better.\n",
    "- <b>As such, perform the chi-square test of independence again</b>, but this time to test whether there is a relationship between X1 and the other dependent variables <b>to determine what features other than X1 can be useful in model training.</b>"
   ]
  },
  {
   "cell_type": "code",
   "execution_count": 19,
   "metadata": {},
   "outputs": [],
   "source": [
    "# chi_independence_df_X1 = run_chi_tests(data=survey_df.drop([\"Y\"], axis=1), target=\"X1\", significance_level=0.05,\n",
    "#                                        plot_row=2, plot_col=3, figsize=(8,5), plot=False,\n",
    "#                                        goodness_of_fit_test=False)\n",
    "# print(\"Table 2. Result of Chi-square test of independence (X1 and X2-6)\")\n",
    "# chi_independence_df_X1.set_index(\"Independent Variable\")"
   ]
  },
  {
   "attachments": {},
   "cell_type": "markdown",
   "metadata": {},
   "source": [
    "X3, X5 and X6 were found to be not independent of X1, meaning they are related to X1.<br>\n",
    "<br>\n",
    "With that, we can now try different combinations of the features (i.e. X1, X3, X5 and X6) to see which combination would result in the best prediction accuracy score.<br>\n",
    "<br>\n",
    "Before doing so, evaludate different classifiers to choose the base model for the next steps."
   ]
  },
  {
   "attachments": {},
   "cell_type": "markdown",
   "metadata": {},
   "source": [
    "##### <b>4. Model selection</b>"
   ]
  },
  {
   "attachments": {},
   "cell_type": "markdown",
   "metadata": {},
   "source": [
    "First, split the data into train and test.<br>\n",
    "<br>\n",
    "As stated above, SMOTE (synthetic minority oversampling technique) will be used for train and test data separately, to handle the class imbalance problem of target Y.<br>\n",
    "<br>\n",
    "Train data will be used for model selection, feature engineering, and hyperparameter tuning.<br>\n",
    "Test data will only be used at the last step to evaluate the fine-tuned model.<br>"
   ]
  },
  {
   "cell_type": "code",
   "execution_count": 20,
   "metadata": {},
   "outputs": [],
   "source": [
    "X_train, X_test, y_train, y_test = split_data(\n",
    "    X=survey_df.drop([\"Y\"], axis=1),\n",
    "    y=survey_df[\"Y\"],\n",
    "    test_size=0.2,\n",
    "    random_state=random_state,\n",
    "    oversampling=True)"
   ]
  },
  {
   "cell_type": "code",
   "execution_count": 21,
   "metadata": {},
   "outputs": [],
   "source": [
    "# eval_models(X=X_train, y=y_train, n_splits=5, n=100, random_state=random_state)"
   ]
  },
  {
   "attachments": {},
   "cell_type": "markdown",
   "metadata": {},
   "source": [
    "Tried some of the most common classifiers.\n",
    "# RandomForestClassifier sometimes outperformed XGBClassifier but XGBClassifier was so much faster and the performance was as good as RandomForestClassifier.\n",
    "(add description of XGB classifier)\n",
    "https://www.nvidia.com/en-us/glossary/data-science/xgboost/\n",
    "\n",
    "Use this classifier as our base model for the later steps. Moving forward, try different combinations of the features (X1, X3, X5 and X6) to see which combination would result in the best prediction accuracy score."
   ]
  },
  {
   "cell_type": "code",
   "execution_count": 22,
   "metadata": {},
   "outputs": [],
   "source": [
    "# eval_feature_combinations(X=X_train, y=y_train, n_splits=5, n=100, random_state=random_state,\n",
    "#                           classifier=XGBClassifier(verbosity=0, random_state=random_state))"
   ]
  },
  {
   "attachments": {},
   "cell_type": "markdown",
   "metadata": {},
   "source": [
    "<b>X1 and X3</b> resulted in the best mean prediction accuracy score, thus the other features will not be used from now on.<br>\n",
    "<br>\n",
    "Re-define X_train and X_test with the best features combination for the later steps.\n"
   ]
  },
  {
   "cell_type": "code",
   "execution_count": 23,
   "metadata": {},
   "outputs": [],
   "source": [
    "X_train = X_train[[\"X1\", \"X3\"]]\n",
    "X_test = X_test[[\"X1\", \"X3\"]]"
   ]
  },
  {
   "attachments": {},
   "cell_type": "markdown",
   "metadata": {},
   "source": [
    "##### <b>5. Feature augmentation</b>"
   ]
  },
  {
   "attachments": {},
   "cell_type": "markdown",
   "metadata": {},
   "source": [
    "With the three features, try different data augmentation/transformation techniques that will create new features out of the existing features to see whether they improve prediction accuracy."
   ]
  },
  {
   "cell_type": "code",
   "execution_count": 24,
   "metadata": {},
   "outputs": [],
   "source": [
    "# eval_transformers(X=X_train, y=y_train, n_splits=5, n=100, random_state=random_state,\n",
    "#                   classifier=XGBClassifier(verbosity=0, random_state=random_state))"
   ]
  },
  {
   "attachments": {},
   "cell_type": "markdown",
   "metadata": {},
   "source": [
    "# the best was PolynomialCountSketch -> what it is and why it performs well with the data we have?\n",
    "\n",
    "As we found the mean accuracy scores improved with the transformers, use the best performing transformer (i.e. PolynomialCountSketch) for the next steps."
   ]
  },
  {
   "cell_type": "code",
   "execution_count": 25,
   "metadata": {},
   "outputs": [],
   "source": [
    "transformer=PolynomialCountSketch(random_state=random_state)\n",
    "X_train = transformer.fit_transform(X_train)\n",
    "X_test = transformer.transform(X_test)"
   ]
  },
  {
   "attachments": {},
   "cell_type": "markdown",
   "metadata": {},
   "source": [
    "##### <b>6. Dimensionality reduction</b>\n",
    "Now we have more features due to the feature augmentation process, try different dimensionality reduction techniques to see if they help improve accuracy score."
   ]
  },
  {
   "cell_type": "code",
   "execution_count": 26,
   "metadata": {},
   "outputs": [
    {
     "name": "stdout",
     "output_type": "stream",
     "text": [
      "Classifier: PCA(random_state=1)\n",
      "{'Mean': 0.5336, 'Std': 0.1735, 'Max': 0.938, 'Min': 0.0909, 'Time elapsed': '00:00:52'} \n",
      "\n",
      "Classifier: KernelPCA(random_state=1)\n",
      "{'Mean': 0.7564, 'Std': 0.0931, 'Max': 0.9876, 'Min': 0.4008, 'Time elapsed': '00:00:37'} \n",
      "\n",
      "Classifier: FastICA(random_state=1)\n",
      "{'Mean': 0.6889, 'Std': 0.1215, 'Max': 0.9711, 'Min': 0.2438, 'Time elapsed': '00:16:40'} \n",
      "\n",
      "Classifier: SparsePCA(random_state=1)\n",
      "{'Mean': 0.7385, 'Std': 0.096, 'Max': 0.9876, 'Min': 0.3967, 'Time elapsed': '00:08:27'} \n",
      "\n",
      "Classifier: IncrementalPCA()\n",
      "{'Mean': 0.7359, 'Std': 0.1012, 'Max': 0.9876, 'Min': 0.3884, 'Time elapsed': '00:00:44'} \n",
      "\n",
      "Classifier: TruncatedSVD()\n",
      "{'Mean': 0.7452, 'Std': 0.0958, 'Max': 0.9876, 'Min': 0.3884, 'Time elapsed': '00:00:27'} \n",
      "\n"
     ]
    }
   ],
   "source": [
    "eval_decomposers(X=X_train, y=y_train, n_splits=5, n=100, random_state=random_state,\n",
    "                classifier=XGBClassifier(verbosity=0, random_state=random_state))"
   ]
  },
  {
   "attachments": {},
   "cell_type": "markdown",
   "metadata": {},
   "source": [
    "Classifier: PCA(random_state=1)\n",
    "{'Mean': 0.5336, 'Std': 0.1735, 'Max': 0.938, 'Min': 0.0909, 'Time elapsed': '00:00:52'} \n",
    "\n",
    "Classifier: KernelPCA(random_state=1)\n",
    "{'Mean': 0.7564, 'Std': 0.0931, 'Max': 0.9876, 'Min': 0.4008, 'Time elapsed': '00:00:37'} \n",
    "\n",
    "Classifier: FastICA(random_state=1)\n",
    "{'Mean': 0.6889, 'Std': 0.1215, 'Max': 0.9711, 'Min': 0.2438, 'Time elapsed': '00:16:40'} \n",
    "\n",
    "Classifier: SparsePCA(random_state=1)\n",
    "{'Mean': 0.7385, 'Std': 0.096, 'Max': 0.9876, 'Min': 0.3967, 'Time elapsed': '00:08:27'} \n",
    "\n",
    "Classifier: IncrementalPCA()\n",
    "{'Mean': 0.7359, 'Std': 0.1012, 'Max': 0.9876, 'Min': 0.3884, 'Time elapsed': '00:00:44'} \n",
    "\n",
    "Classifier: TruncatedSVD()\n",
    "{'Mean': 0.7452, 'Std': 0.0958, 'Max': 0.9876, 'Min': 0.3884, 'Time elapsed': '00:00:27'} "
   ]
  },
  {
   "cell_type": "code",
   "execution_count": null,
   "metadata": {},
   "outputs": [],
   "source": [
    "# KernelPCA performed the best?\n",
    "decomposer=KernelPCA(random_state=random_state)\n",
    "X_train = decomposer.fit_transform(X_train)\n",
    "X_test = decomposer.transform(X_test)"
   ]
  },
  {
   "attachments": {},
   "cell_type": "markdown",
   "metadata": {},
   "source": [
    "Some decomposers performed better than the others but none of them significantly improved the accuracy score.<br>\n",
    "Hence, proceed without a dimensionality reduction step.<br>\n",
    "<br>\n",
    "Next is hyperparameter tuning for the classifier."
   ]
  },
  {
   "attachments": {},
   "cell_type": "markdown",
   "metadata": {},
   "source": [
    "##### <b>7. Hyperparameter tuning</b>"
   ]
  },
  {
   "cell_type": "code",
   "execution_count": null,
   "metadata": {},
   "outputs": [],
   "source": [
    "transformers = [\n",
    "    PolynomialCountSketch(random_state=random_state, n_components=n) for n in np.arange(50, 350, 50)\n",
    "    ]\n",
    "eval_transformers(X=X_train, y=y_train, n_splits=5, n=100, random_state=random_state,\n",
    "                  classifier=XGBClassifier(verbosity=0, random_state=random_state))\n",
    "\n",
    "transformers = [\n",
    "    PolynomialCountSketch(skewedness=random.choice(np.arange(0.01, 1, 0.01))) for _ in range(10)\n",
    "    ]\n",
    "eval_transformers(X=X_train, y=y_train, n_splits=5, n=100, random_state=random_state,\n",
    "                  classifier=XGBClassifier(verbosity=0, random_state=random_state))"
   ]
  },
  {
   "cell_type": "code",
   "execution_count": null,
   "metadata": {},
   "outputs": [],
   "source": [
    "decomposers = [\n",
    "\n",
    "]\n",
    "eval_decomposers(X=X_train, y=y_train, n_splits=5, n=100, random_state=random_state,\n",
    "                classifier=XGBClassifier(verbosity=0, random_state=random_state))\n",
    "\n",
    "decomposers = [\n",
    "    \n",
    "]\n",
    "eval_decomposers(X=X_train, y=y_train, n_splits=5, n=100, random_state=random_state,\n",
    "                classifier=XGBClassifier(verbosity=0, random_state=random_state))"
   ]
  },
  {
   "cell_type": "code",
   "execution_count": 15,
   "metadata": {},
   "outputs": [
    {
     "name": "stdout",
     "output_type": "stream",
     "text": [
      "XGBClassifier(alpha=0.1, base_score=None, booster=None, callbacks=None,\n",
      "              colsample_bylevel=None, colsample_bynode=None,\n",
      "              colsample_bytree=None, early_stopping_rounds=None,\n",
      "              enable_categorical=False, eta=0.27, eval_metric=None,\n",
      "              feature_types=None, gamma=None, gpu_id=None, grow_policy=None,\n",
      "              importance_type=None, interaction_constraints=None, lambda=0.03,\n",
      "              learning_rate=None, max_bin=None, max_cat_threshold=None,\n",
      "              max_cat_to_onehot=None, max_delta_step=None, max_depth=9,\n",
      "              max_leaves=None, min_child_weight=3, missing=nan,\n",
      "              monotone_constraints=None, n_estimators=100, n_jobs=None, ...) \n",
      " 0.7 \n",
      " {'tree_method': 'approx', 'subsample': 0.30000000000000004, 'min_child_weight': 3, 'max_depth': 9, 'lambda': 0.03, 'eta': 0.27, 'alpha': 0.1}\n"
     ]
    },
    {
     "data": {
      "text/plain": [
       "0.5"
      ]
     },
     "execution_count": 15,
     "metadata": {},
     "output_type": "execute_result"
    }
   ],
   "source": [
    "best_search = tune_xgb_clr(X=X_train, y=y_train, n_iter=200, random_state=random_state)"
   ]
  },
  {
   "attachments": {},
   "cell_type": "markdown",
   "metadata": {},
   "source": [
    "##### <b>8. Evaluate the tuned model using test data</b>"
   ]
  },
  {
   "cell_type": "code",
   "execution_count": null,
   "metadata": {},
   "outputs": [],
   "source": [
    "scores = cross_val_score(best_search.best_estimator_, X_test, y_test, scoring='roc_auc',\n",
    "                         cv=RepeatedStratifiedKFold(n_splits=5, n_repeats=100, random_state=random_state))\n",
    "np.mean(scores)"
   ]
  },
  {
   "attachments": {},
   "cell_type": "markdown",
   "metadata": {},
   "source": [
    "##### <b>9. Save the best performing model for future use</b>"
   ]
  },
  {
   "cell_type": "code",
   "execution_count": null,
   "metadata": {},
   "outputs": [],
   "source": []
  },
  {
   "attachments": {},
   "cell_type": "markdown",
   "metadata": {},
   "source": [
    "##### <b>10. Conclusion</b>"
   ]
  },
  {
   "attachments": {},
   "cell_type": "markdown",
   "metadata": {},
   "source": [
    "learning points, insights, future work, etc."
   ]
  }
 ],
 "metadata": {
  "kernelspec": {
   "display_name": "Python 3",
   "language": "python",
   "name": "python3"
  },
  "language_info": {
   "codemirror_mode": {
    "name": "ipython",
    "version": 3
   },
   "file_extension": ".py",
   "mimetype": "text/x-python",
   "name": "python",
   "nbconvert_exporter": "python",
   "pygments_lexer": "ipython3",
   "version": "3.8.10"
  },
  "orig_nbformat": 4,
  "vscode": {
   "interpreter": {
    "hash": "a4868653bb6f8972e87e4c446ab8a445a15b25dedb8594cc74c480f8152ea86a"
   }
  }
 },
 "nbformat": 4,
 "nbformat_minor": 2
}
